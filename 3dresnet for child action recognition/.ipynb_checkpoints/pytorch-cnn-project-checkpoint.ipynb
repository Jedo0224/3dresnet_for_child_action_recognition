{
 "cells": [
  {
   "cell_type": "code",
   "execution_count": 1,
   "metadata": {
    "colab": {
     "base_uri": "https://localhost:8080/"
    },
    "executionInfo": {
     "elapsed": 4304,
     "status": "ok",
     "timestamp": 1677478411884,
     "user": {
      "displayName": "박재석",
      "userId": "08043462631904569995"
     },
     "user_tz": -540
    },
    "id": "6ao9txfslf7Q",
    "outputId": "88b14d39-46de-4828-f3a7-847847b70a57"
   },
   "outputs": [
    {
     "name": "stdout",
     "output_type": "stream",
     "text": [
      "pytorch version: 1.9.0+cu111\n"
     ]
    }
   ],
   "source": [
    "## 첫번째 코드블록\n",
    "import torch \n",
    "print('pytorch version: {}'.format(torch.__version__))"
   ]
  },
  {
   "cell_type": "code",
   "execution_count": 18,
   "metadata": {
    "colab": {
     "base_uri": "https://localhost:8080/"
    },
    "executionInfo": {
     "elapsed": 1129,
     "status": "ok",
     "timestamp": 1677478413010,
     "user": {
      "displayName": "박재석",
      "userId": "08043462631904569995"
     },
     "user_tz": -540
    },
    "id": "cM8GGGuwlf7b",
    "outputId": "40fb2a47-a511-4d19-addf-2ce72a6b21ac"
   },
   "outputs": [
    {
     "name": "stdout",
     "output_type": "stream",
     "text": [
      "pytorch version: 1.9.0+cu111\n",
      "GPU 사용 가능 여부: True\n"
     ]
    }
   ],
   "source": [
    "import torch\n",
    "import torchvision\n",
    "import torch.nn as nn\n",
    "import torch.nn.functional as F\n",
    "import torchvision.transforms as transforms\n",
    "from torch.utils.data import Dataset, DataLoader\n",
    "from PIL import Image ,ImageSequence\n",
    "import glob\n",
    "import os\n",
    "import matplotlib.pyplot as plt\n",
    "import numpy as np\n",
    "#import check_util.checker as checker \n",
    "%matplotlib inline\n",
    "\n",
    "print('pytorch version: {}'.format(torch.__version__))\n",
    "print('GPU 사용 가능 여부: {}'.format(torch.cuda.is_available()))\n",
    "device = \"cuda\" if torch.cuda.is_available() else \"cpu\" # GPU 사용 가능 여부에 따라 device 정보 저장\n"
   ]
  },
  {
   "cell_type": "code",
   "execution_count": 19,
   "metadata": {
    "executionInfo": {
     "elapsed": 3,
     "status": "ok",
     "timestamp": 1677478414715,
     "user": {
      "displayName": "박재석",
      "userId": "08043462631904569995"
     },
     "user_tz": -540
    },
    "id": "sIN5Cskylf7d"
   },
   "outputs": [],
   "source": [
    "data_dir = './data'  # 압축 해제된 데이터셋의 디렉토리 경로"
   ]
  },
  {
   "cell_type": "code",
   "execution_count": 20,
   "metadata": {
    "executionInfo": {
     "elapsed": 3,
     "status": "ok",
     "timestamp": 1677478416810,
     "user": {
      "displayName": "박재석",
      "userId": "08043462631904569995"
     },
     "user_tz": -540
    },
    "id": "btYA7dDXlf7i"
   },
   "outputs": [],
   "source": [
    "batch_size = 40\n",
    "num_epochs = 10\n",
    "learning_rate = 0.0001"
   ]
  },
  {
   "cell_type": "code",
   "execution_count": 21,
   "metadata": {
    "executionInfo": {
     "elapsed": 313,
     "status": "ok",
     "timestamp": 1677478418202,
     "user": {
      "displayName": "박재석",
      "userId": "08043462631904569995"
     },
     "user_tz": -540
    },
    "id": "EFiLOwp6tXpB"
   },
   "outputs": [],
   "source": [
    "# basename=os.path.basename(\"/content/drive/MyDrive/02_cnn_pt/data/my_cat_dog/test/dog/dog.1503.jpg\")\n",
    "\n",
    "# print(basename.startswith(\"dog\"))"
   ]
  },
  {
   "cell_type": "code",
   "execution_count": null,
   "metadata": {
    "executionInfo": {
     "elapsed": 2,
     "status": "ok",
     "timestamp": 1677478418699,
     "user": {
      "displayName": "박재석",
      "userId": "08043462631904569995"
     },
     "user_tz": -540
    },
    "id": "FImsKjOalf7k"
   },
   "outputs": [],
   "source": []
  },
  {
   "cell_type": "code",
   "execution_count": null,
   "metadata": {
    "executionInfo": {
     "elapsed": 2,
     "status": "ok",
     "timestamp": 1677478419926,
     "user": {
      "displayName": "박재석",
      "userId": "08043462631904569995"
     },
     "user_tz": -540
    },
    "id": "OIbAJFRjeEfY"
   },
   "outputs": [],
   "source": []
  },
  {
   "cell_type": "code",
   "execution_count": 22,
   "metadata": {
    "executionInfo": {
     "elapsed": 2,
     "status": "ok",
     "timestamp": 1677478419926,
     "user": {
      "displayName": "박재석",
      "userId": "08043462631904569995"
     },
     "user_tz": -540
    },
    "id": "tI6QadixpTTW"
   },
   "outputs": [],
   "source": [
    "def pil_loader(path):\n",
    "    with Image.open(path) as img:\n",
    "        frames = []\n",
    "        for frame in ImageSequence.Iterator(img):\n",
    "            frames.append(frame.convert('RGB'))\n",
    "        return frames"
   ]
  },
  {
   "cell_type": "code",
   "execution_count": 152,
   "metadata": {
    "executionInfo": {
     "elapsed": 3,
     "status": "ok",
     "timestamp": 1677478628906,
     "user": {
      "displayName": "박재석",
      "userId": "08043462631904569995"
     },
     "user_tz": -540
    },
    "id": "t1XLy4kzm5LK"
   },
   "outputs": [],
   "source": [
    "class CatDogDataset(Dataset):\n",
    "    def __init__(self, data_dir, mode, transform=None):\n",
    "        self.all_data = sorted(glob.glob(os.path.join(data_dir, mode, '*','*')))\n",
    "        self.transform = transform\n",
    "        self.mode = mode\n",
    "    \n",
    "    def __getitem__(self, index):\n",
    "        data_path = self.all_data[index]\n",
    "        gif = pil_loader(data_path)\n",
    "        \n",
    "        \n",
    "        frames = []\n",
    "#         frame_count=0\n",
    "#         for frame in gif:\n",
    "#             frame_count += 1\n",
    "\n",
    "#         print(\"{} : The number of frames in the image is {}\".format(data_path,frame_count))\n",
    "      \n",
    "     \n",
    "        for frame in (gif):\n",
    "            \n",
    "            frames.append(np.array(self.transform(frame)))\n",
    "    \n",
    "        # Stack the frames to create a 4D array\n",
    "        img = np.stack(frames, axis=0)\n",
    "        img = np.stack(img, axis=0)\n",
    "       \n",
    "        \n",
    "       # Normalize to the [0, 1] range\n",
    "        img = torch.FloatTensor(img)\n",
    "\n",
    "        # Step 2: Get the label for the image\n",
    "        basename = os.path.basename(data_path)  \n",
    "        \n",
    "        if basename.startswith(\"animation.0.\"):\n",
    "            label = 0 #\"서있기\"\n",
    "        elif basename.startswith(\"animation.1.\"):\n",
    "            label = 1 # \"걷기\"\n",
    "        elif basename.startswith(\"animation.2.\"):\n",
    "            label = 2   #\"구부리기\"\n",
    "        elif basename.startswith(\"animation.3.\"):\n",
    "            label = 3 #\"비틀기\"\n",
    "#         elif basename.startswith(\"animation.4.\"):\n",
    "#             label = 4#\"넘기\"\n",
    "#         elif basename.startswith(\"animation.5.\"):\n",
    "#             label = 5 #\"물건꺼내기\"\n",
    "        elif basename.startswith(\"animation.6.\"):\n",
    "            label = 4 #\"밀고당기기\"\n",
    "#         elif basename.startswith(\"animation.7.\"):\n",
    "#             label = 5 #\"달리기\"\n",
    "#         elif basename.startswith(\"animation.8.\"):\n",
    "#              label =8 #\"제자리점프\"\n",
    "#         elif basename.startswith(\"animation.9.\"):\n",
    "#             label = 9 #\"발차기\"\n",
    "        elif basename.startswith(\"animation.10.\"):\n",
    "            label = 5# \"기어다니기\"\n",
    "        elif basename.startswith(\"animation.11.\"):\n",
    "            label = 6# \"엎드려있기\"\n",
    "        elif basename.startswith(\"animation.12.\"):\n",
    "             label = 7 #\"앉기\"\n",
    "        \n",
    " \n",
    "       \n",
    "        \n",
    "  \n",
    "        \n",
    "        return img.reshape(3,30,60,60), label\n",
    "    \n",
    "    def __len__(self):\n",
    "        return len(self.all_data)"
   ]
  },
  {
   "cell_type": "code",
   "execution_count": 153,
   "metadata": {
    "executionInfo": {
     "elapsed": 3,
     "status": "ok",
     "timestamp": 1677478540095,
     "user": {
      "displayName": "박재석",
      "userId": "08043462631904569995"
     },
     "user_tz": -540
    },
    "id": "CjpnJKqmE4_n"
   },
   "outputs": [],
   "source": [
    "import os\n",
    "os.environ['CUDA_LAUNCH_BLOCKING'] = \"1\"\n",
    "os.environ[\"CUDA_VISIBLE_DEVICES\"] = \"0\""
   ]
  },
  {
   "cell_type": "code",
   "execution_count": null,
   "metadata": {
    "executionInfo": {
     "elapsed": 3,
     "status": "ok",
     "timestamp": 1677478540096,
     "user": {
      "displayName": "박재석",
      "userId": "08043462631904569995"
     },
     "user_tz": -540
    },
    "id": "N7n8AF-CTc_Q"
   },
   "outputs": [],
   "source": []
  },
  {
   "cell_type": "code",
   "execution_count": 154,
   "metadata": {
    "executionInfo": {
     "elapsed": 3,
     "status": "ok",
     "timestamp": 1677478540575,
     "user": {
      "displayName": "박재석",
      "userId": "08043462631904569995"
     },
     "user_tz": -540
    },
    "id": "e-KZCbzNjRVl"
   },
   "outputs": [],
   "source": [
    "\n",
    "# class CatDogDataset(Dataset):\n",
    "#     def __init__(self, data_dir, mode, transform=None):\n",
    "#         self.all_data = sorted(glob.glob(os.path.join(data_dir, mode, '*','*')))\n",
    "#         self.transform = transform\n",
    "#         self.mode = mode\n",
    "    \n",
    "#     def __getitem__(self, index):\n",
    "#         # Step 1: 반환할 이미지 경로 정의 및 이미지 로드\n",
    "#         ## 코드 시작 ##\n",
    "#         data_path = self.all_data[index]   # 위의 설명 Step 1의 1. 을 참고하여 None을 채우세요.\n",
    "#         img = Image.open(data_path)         # 위의 설명 Step 1의 2. 를 참고하여 None을 채우세요.\n",
    "#         img = self.transform(img)         # 위의 설명 Step 1의 3. 을 참고하여 None을 채우세요.\n",
    "        \n",
    "\n",
    "#         ## 코드 종료 ##\n",
    "        \n",
    "#         # Step 2: 이미지에 대한 label 정의\n",
    "#         ## 코드 시작 ##\n",
    "#         basename=os.path.basename(data_path)  \n",
    "#         if(basename.startswith(\"a3\"))  : \n",
    "#           label =0\n",
    "#         elif(basename.startswith(\"a4\")):\n",
    "#           label =1\n",
    "#         else:\n",
    "#           label =2           # 위의 설명 Step 2 를 참고하여 None을 채우세요.\n",
    "#         ## 코드 종료 ##\n",
    "#         return img, label\n",
    "    \n",
    "#     def __len__(self):\n",
    "#         ## 코드 시작 ##\n",
    "#         length = len(self.all_data)\n",
    "#         ## 코드 종료 ##\n",
    "#         return length"
   ]
  },
  {
   "cell_type": "code",
   "execution_count": null,
   "metadata": {
    "executionInfo": {
     "elapsed": 2,
     "status": "ok",
     "timestamp": 1677478540931,
     "user": {
      "displayName": "박재석",
      "userId": "08043462631904569995"
     },
     "user_tz": -540
    },
    "id": "sr3WHtDgZnME"
   },
   "outputs": [],
   "source": []
  },
  {
   "cell_type": "code",
   "execution_count": 155,
   "metadata": {
    "executionInfo": {
     "elapsed": 492,
     "status": "ok",
     "timestamp": 1677478631536,
     "user": {
      "displayName": "박재석",
      "userId": "08043462631904569995"
     },
     "user_tz": -540
    },
    "id": "GBJlIr2dlf7l"
   },
   "outputs": [],
   "source": [
    "data_transforms = {\n",
    "    'train': transforms.Compose([transforms.ToTensor(),\n",
    "            transforms.Normalize([0.485, 0.456, 0.406], [0.229, 0.224, 0.225])\n",
    "        \n",
    "\n",
    "        \n",
    "    ]),\n",
    "    'val': transforms.Compose([\n",
    "       \n",
    "        transforms.ToTensor(),\n",
    "        transforms.Normalize([0.485, 0.456, 0.406], [0.229, 0.224, 0.225])\n",
    "    ]),\n",
    "}\n",
    "\n",
    "train_data = CatDogDataset(data_dir='/home/mhealth02/바탕화면/workspace/points/dataset_size_60_frame_30_', mode='train', transform=data_transforms['train'])\n",
    "val_data = CatDogDataset(data_dir='/home/mhealth02/바탕화면/workspace/points/dataset_size_60_frame_30_', mode='val', transform=data_transforms['val'])\n",
    "test_data = CatDogDataset(data_dir='/home/mhealth02/바탕화면/workspace/points/dataset_size_60_frame_30_', mode='test', transform=data_transforms['val'])\n",
    "\n",
    "train_loader = DataLoader(train_data, batch_size=batch_size, shuffle=True, drop_last=True)\n",
    "val_loader = DataLoader(val_data, batch_size=batch_size, shuffle=False, drop_last=True)\n",
    "test_loader = DataLoader(test_data, batch_size=batch_size, shuffle=False, drop_last=True)"
   ]
  },
  {
   "cell_type": "code",
   "execution_count": null,
   "metadata": {
    "executionInfo": {
     "elapsed": 4,
     "status": "ok",
     "timestamp": 1677478518182,
     "user": {
      "displayName": "박재석",
      "userId": "08043462631904569995"
     },
     "user_tz": -540
    },
    "id": "IKdFe1gTT8LA"
   },
   "outputs": [],
   "source": [
    "\n"
   ]
  },
  {
   "cell_type": "code",
   "execution_count": 109,
   "metadata": {
    "executionInfo": {
     "elapsed": 4,
     "status": "ok",
     "timestamp": 1677478518182,
     "user": {
      "displayName": "박재석",
      "userId": "08043462631904569995"
     },
     "user_tz": -540
    },
    "id": "qmRLEqET3rsW"
   },
   "outputs": [],
   "source": [
    "# data_transforms = {\n",
    "#     'train': transforms.Compose([\n",
    "#         transforms.RandomRotation(5),\n",
    "#         transforms.Resize([120, 120]),\n",
    "#         transforms.RandomHorizontalFlip(),\n",
    "#         transforms.RandomResizedCrop(120, scale=(0.96, 1.0), ratio=(0.95, 1.05)),\n",
    "#         transforms.ToTensor(),\n",
    "#         transforms.Normalize([0.485, 0.456, 0.406], [0.229, 0.224, 0.225])\n",
    "#     ]),\n",
    "#     'val': transforms.Compose([\n",
    "#         transforms.Resize([120, 120]),\n",
    "#         transforms.ToTensor(),\n",
    "#         transforms.Normalize([0.485, 0.456, 0.406], [0.229, 0.224, 0.225])\n",
    "#     ]),\n",
    "# }\n",
    "\n",
    "# train_data = CatDogDataset(data_dir='/content/drive/MyDrive/RA/test/dataset', mode='train', transform=data_transforms['train'])\n",
    "# val_data = CatDogDataset(data_dir='/content/drive/MyDrive/RA/test/dataset', mode='val', transform=data_transforms['val'])\n",
    "# test_data = CatDogDataset(data_dir='/content/drive/MyDrive/RA/test/dataset', mode='test', transform=data_transforms['val'])\n",
    "\n",
    "# train_loader = DataLoader(train_data, batch_size=batch_size, shuffle=True, drop_last=True)\n",
    "# val_loader = DataLoader(val_data, batch_size=batch_size, shuffle=False, drop_last=True)\n",
    "# test_loader = DataLoader(test_data, batch_size=batch_size, shuffle=False, drop_last=True)"
   ]
  },
  {
   "cell_type": "code",
   "execution_count": 156,
   "metadata": {
    "colab": {
     "base_uri": "https://localhost:8080/",
     "height": 475
    },
    "executionInfo": {
     "elapsed": 6146,
     "status": "error",
     "timestamp": 1677478640958,
     "user": {
      "displayName": "박재석",
      "userId": "08043462631904569995"
     },
     "user_tz": -540
    },
    "id": "oYfpq_B73rzN",
    "outputId": "45ab30c6-2926-4a05-b047-e99a227efce2"
   },
   "outputs": [
    {
     "name": "stdout",
     "output_type": "stream",
     "text": [
      "Batch 1 data shape: torch.Size([40, 3, 30, 60, 60])\n",
      "Batch 2 data shape: torch.Size([40, 3, 30, 60, 60])\n",
      "Batch 3 data shape: torch.Size([40, 3, 30, 60, 60])\n",
      "Batch 4 data shape: torch.Size([40, 3, 30, 60, 60])\n",
      "Batch 5 data shape: torch.Size([40, 3, 30, 60, 60])\n",
      "Batch 6 data shape: torch.Size([40, 3, 30, 60, 60])\n",
      "Batch 7 data shape: torch.Size([40, 3, 30, 60, 60])\n",
      "Batch 8 data shape: torch.Size([40, 3, 30, 60, 60])\n",
      "Batch 9 data shape: torch.Size([40, 3, 30, 60, 60])\n",
      "Batch 10 data shape: torch.Size([40, 3, 30, 60, 60])\n",
      "Batch 11 data shape: torch.Size([40, 3, 30, 60, 60])\n",
      "Batch 12 data shape: torch.Size([40, 3, 30, 60, 60])\n",
      "Batch 13 data shape: torch.Size([40, 3, 30, 60, 60])\n",
      "Batch 14 data shape: torch.Size([40, 3, 30, 60, 60])\n",
      "Batch 15 data shape: torch.Size([40, 3, 30, 60, 60])\n",
      "Batch 16 data shape: torch.Size([40, 3, 30, 60, 60])\n",
      "Batch 17 data shape: torch.Size([40, 3, 30, 60, 60])\n",
      "Batch 18 data shape: torch.Size([40, 3, 30, 60, 60])\n",
      "Batch 19 data shape: torch.Size([40, 3, 30, 60, 60])\n",
      "Batch 20 data shape: torch.Size([40, 3, 30, 60, 60])\n",
      "Batch 21 data shape: torch.Size([40, 3, 30, 60, 60])\n",
      "Batch 22 data shape: torch.Size([40, 3, 30, 60, 60])\n",
      "Batch 23 data shape: torch.Size([40, 3, 30, 60, 60])\n",
      "Batch 24 data shape: torch.Size([40, 3, 30, 60, 60])\n",
      "Batch 25 data shape: torch.Size([40, 3, 30, 60, 60])\n",
      "Batch 26 data shape: torch.Size([40, 3, 30, 60, 60])\n",
      "Batch 27 data shape: torch.Size([40, 3, 30, 60, 60])\n",
      "Batch 28 data shape: torch.Size([40, 3, 30, 60, 60])\n",
      "Batch 29 data shape: torch.Size([40, 3, 30, 60, 60])\n",
      "Batch 30 data shape: torch.Size([40, 3, 30, 60, 60])\n",
      "Batch 31 data shape: torch.Size([40, 3, 30, 60, 60])\n",
      "Batch 32 data shape: torch.Size([40, 3, 30, 60, 60])\n",
      "Batch 33 data shape: torch.Size([40, 3, 30, 60, 60])\n"
     ]
    }
   ],
   "source": [
    "for i, (batch_data, batch_labels) in enumerate(train_loader):\n",
    "    print(f'Batch {i+1} data shape: {batch_data.shape}')\n",
    "    "
   ]
  },
  {
   "cell_type": "code",
   "execution_count": 47,
   "metadata": {
    "id": "gsobtySa13HS"
   },
   "outputs": [
    {
     "data": {
      "text/plain": [
       "313200"
      ]
     },
     "execution_count": 47,
     "metadata": {},
     "output_type": "execute_result"
    }
   ],
   "source": [
    "29*60*60*3"
   ]
  },
  {
   "cell_type": "code",
   "execution_count": null,
   "metadata": {
    "id": "zaLFWbNMlf7m"
   },
   "outputs": [],
   "source": []
  },
  {
   "cell_type": "code",
   "execution_count": 157,
   "metadata": {
    "id": "cfKAGGi_lf7n"
   },
   "outputs": [],
   "source": [
    "class SimpleCNN(nn.Module):\n",
    "    def __init__(self):\n",
    "        super().__init__()\n",
    "        # self.conv 구현\n",
    "        self.conv = nn.Sequential(\n",
    "            ## 코드 시작 ##\n",
    "            torch.nn.Conv3d(3, 32, kernel_size=3),    # conv_1 해당하는 층\n",
    "            torch.nn.BatchNorm3d(32),    # batch_norm_1 해당하는 층\n",
    "            torch.nn.ReLU(),    # ReLU_1 해당하는 층\n",
    "            torch.nn.MaxPool3d(2),    # maxpool_1 해당하는 층\n",
    "            \n",
    "            torch.nn.Conv3d(32, 64, kernel_size=3),    # conv_1 해당하는 층\n",
    "            torch.nn.BatchNorm3d(64),    # batch_norm_1 해당하는 층\n",
    "            torch.nn.ReLU(),    # ReLU_1 해당하는 층\n",
    "            torch.nn.MaxPool3d(2),\n",
    "            \n",
    "            torch.nn.Conv3d(64, 128, kernel_size=3),    # conv_1 해당하는 층\n",
    "            torch.nn.BatchNorm3d(128),    # batch_norm_1 해당하는 층\n",
    "            torch.nn.ReLU(),    # ReLU_1 해당하는 층\n",
    "            torch.nn.MaxPool3d(2),\n",
    "            \n",
    "            torch.nn.Conv3d(128, 128, kernel_size=3),    # conv_1 해당하는 층\n",
    "            torch.nn.BatchNorm3d(128),    # batch_norm_1 해당하는 층\n",
    "            torch.nn.ReLU(),    # ReLU_1 해당하는 층\n",
    "            torch.nn.MaxPool3d(2)\n",
    "            ## 코드 종료 ##\n",
    "        )\n",
    "        \n",
    "        # self.fc 구현\n",
    "        ## 코드 시작 ##\n",
    "        self.fc1 = nn.Linear(4608,512)\n",
    "        self.fc2 = nn.Linear(512,12)\n",
    "        ## 코드 종료 ##\n",
    "    \n",
    "    def forward(self, x):\n",
    "        x = self.conv(x)\n",
    "        x = x.view(x.shape[0], -1)\n",
    "        x = F.relu(self.fc1(x))\n",
    "        x = self.fc2(x)\n",
    "        return x"
   ]
  },
  {
   "cell_type": "code",
   "execution_count": 158,
   "metadata": {
    "executionInfo": {
     "elapsed": 302,
     "status": "ok",
     "timestamp": 1677478648637,
     "user": {
      "displayName": "박재석",
      "userId": "08043462631904569995"
     },
     "user_tz": -540
    },
    "id": "0ur0Ie8gkkr9"
   },
   "outputs": [],
   "source": [
    "import torch\n",
    "import torch.nn as nn\n",
    "import torchvision.models.resnet as resnet\n",
    "\n",
    "class Conv3DResNet(resnet.ResNet):\n",
    "    def __init__(self, block, layers, num_classes):\n",
    "        super().__init__(block, layers, num_classes)\n",
    "\n",
    "        self.conv1 = nn.Conv3d(3, 64, kernel_size=(7, 7, 7), stride=(2, 2, 2), padding=(3, 3, 3), bias=False)\n",
    "        self.bn1 = nn.BatchNorm3d(64)\n",
    "        self.relu = nn.ReLU(inplace=True)\n",
    "        self.maxpool = nn.MaxPool3d(kernel_size=(3, 3, 3), stride=(2, 2, 2), padding=(1, 1, 1))\n",
    "\n",
    "        self.conv2 = nn.Conv3d(64, 128, kernel_size=(3, 3, 3), stride=(1, 1, 1), padding=(1, 1, 1), bias=False)\n",
    "        self.bn2 = nn.BatchNorm3d(128)\n",
    "        self.relu2 = nn.ReLU(inplace=True)\n",
    "        self.maxpool2 = nn.MaxPool3d(kernel_size=(2, 2, 2), stride=(2, 2, 2), padding=(0, 0, 0))\n",
    "\n",
    "        self.conv3 = nn.Conv3d(128, 256, kernel_size=(3, 3, 3), stride=(1, 1, 1), padding=(1, 1, 1), bias=False)\n",
    "        self.bn3 = nn.BatchNorm3d(256)\n",
    "        self.relu3 = nn.ReLU(inplace=True)\n",
    "        self.maxpool3 = nn.MaxPool3d(kernel_size=(2, 2, 2), stride=(2, 2, 2), padding=(0, 0, 0))\n",
    "\n",
    "        self.fc1 = nn.Linear(25088 , 512)\n",
    "       \n",
    "        self.fc2 = nn.Linear(512, num_classes)\n",
    "        # Implement the rest of the layers as needed\n",
    "\n",
    "    def forward(self, x):\n",
    "        x = self.conv1(x)\n",
    "        x = self.bn1(x)\n",
    "        x = self.relu(x)\n",
    "        x = self.maxpool(x)\n",
    "\n",
    "        x = self.conv2(x)\n",
    "        x = self.bn2(x)\n",
    "        x = self.relu2(x)\n",
    "        x = self.maxpool2(x)\n",
    "\n",
    "        x = self.conv3(x)\n",
    "        x = self.bn3(x)\n",
    "        x = self.relu3(x)\n",
    "        x = self.maxpool3(x)\n",
    "        \n",
    "        x = x.view(x.shape[0], -1)\n",
    "        x = F.relu(self.fc1(x))\n",
    "      \n",
    "        x = self.fc2(x)\n",
    "\n",
    "        return x"
   ]
  },
  {
   "cell_type": "code",
   "execution_count": 159,
   "metadata": {},
   "outputs": [],
   "source": [
    "import torch\n",
    "import torch.nn as nn\n",
    "\n",
    "class BasicBlock(nn.Module):\n",
    "    def __init__(self, in_channels, out_channels, stride=1):\n",
    "        super(BasicBlock, self).__init__()\n",
    "        self.conv1 = nn.Conv3d(in_channels, out_channels, kernel_size=3, stride=stride, padding=1, bias=False)\n",
    "        self.bn1 = nn.BatchNorm3d(out_channels)\n",
    "        self.relu = nn.ReLU(inplace=True)\n",
    "        self.conv2 = nn.Conv3d(out_channels, out_channels, kernel_size=3, stride=1, padding=1, bias=False)\n",
    "        self.bn2 = nn.BatchNorm3d(out_channels)\n",
    "        self.downsample = None\n",
    "        \n",
    "        if stride != 1 or in_channels != out_channels:\n",
    "            self.downsample = nn.Sequential(\n",
    "                nn.Conv3d(in_channels, out_channels, kernel_size=1, stride=stride, bias=False),\n",
    "                nn.BatchNorm3d(out_channels),\n",
    "            )\n",
    "        \n",
    "    def forward(self, x):\n",
    "        identity = x\n",
    "\n",
    "        out = self.conv1(x)\n",
    "        out = self.bn1(out)\n",
    "        out = self.relu(out)\n",
    "\n",
    "        out = self.conv2(out)\n",
    "        out = self.bn2(out)\n",
    "\n",
    "        if self.downsample is not None:\n",
    "            identity = self.downsample(x)\n",
    "\n",
    "        out += identity\n",
    "        out = self.relu(out)\n",
    "\n",
    "        return out\n",
    "\n",
    "class ResNet3D(nn.Module):\n",
    "    def __init__(self, block, layers, num_classes=2):\n",
    "        super(ResNet3D, self).__init__()\n",
    "        self.in_channels = 1\n",
    "\n",
    "        self.conv1 = nn.Conv3d(3, 64, kernel_size=3, stride=1, padding=1, bias=False)\n",
    "        self.bn1 = nn.BatchNorm3d(64)\n",
    "        self.relu = nn.ReLU(inplace=True)\n",
    "        self.maxpool = nn.MaxPool3d(kernel_size=(1, 2, 2), stride=(1, 2, 2))\n",
    "\n",
    "        self.layer1 = self._make_layer(block, 64, layers[0])\n",
    "        self.layer2 = self._make_layer(block, 128, layers[1], stride=2)\n",
    "        self.layer3 = self._make_layer(block, 256, layers[2], stride=2)\n",
    "        self.layer4 = self._make_layer(block, 512, layers[3], stride=2)\n",
    "\n",
    "        self.avgpool = nn.AdaptiveAvgPool3d((1, 1, 1))\n",
    "        self.fc = nn.Linear(512, num_classes)\n",
    "\n",
    "    def _make_layer(self, block, out_channels, blocks, stride=1):\n",
    "        layers = []\n",
    "        layers.append(block(self.in_channels, out_channels, stride))\n",
    "        self.in_channels = out_channels\n",
    "        for i in range(1, blocks):\n",
    "            layers.append(block(self.in_channels, out_channels))\n",
    "\n",
    "        return nn.Sequential(*layers)\n",
    "\n",
    "    def forward(self, x):\n",
    "        x = self.conv1(x)\n",
    "        x = self.bn1(x)\n",
    "        x = self.relu(x)\n",
    "        x = self.maxpool(x)\n",
    "\n",
    "        x = self.layer1(x)\n",
    "        x = self.layer2(x)\n",
    "        x = self.layer3(x)\n",
    "        x = self.layer4(x)\n",
    "\n",
    "        x = self.avgpool(x)\n",
    "        x = x.view(x.size(0), -1)\n",
    "        x = self.fc(x)\n",
    "\n",
    "        return x"
   ]
  },
  {
   "cell_type": "code",
   "execution_count": 160,
   "metadata": {
    "id": "IHfsaE2Zi6N7"
   },
   "outputs": [],
   "source": [
    "import torch\n",
    "import torch.nn as nn\n",
    "\n",
    "class C3D(nn.Module):\n",
    "    def __init__(self, num_classes=12):\n",
    "        super(C3D, self).__init__()\n",
    "\n",
    "        # Define the network layers\n",
    "        self.conv1 = nn.Conv3d(3, 64, kernel_size=(3, 3, 3), padding=(1, 1, 1))\n",
    "        self.pool1 = nn.MaxPool3d(kernel_size=(1, 2, 2), stride=(1, 2, 2))\n",
    "        self.conv2 = nn.Conv3d(64, 128, kernel_size=(3, 3, 3), padding=(1, 1, 1))\n",
    "        self.pool2 = nn.MaxPool3d(kernel_size=(2, 2, 2), stride=(2, 2, 2))\n",
    "        self.conv3a = nn.Conv3d(128, 256, kernel_size=(3, 3, 3), padding=(1, 1, 1))\n",
    "        self.conv3b = nn.Conv3d(256, 256, kernel_size=(3, 3, 3), padding=(1, 1, 1))\n",
    "        self.pool3 = nn.MaxPool3d(kernel_size=(2, 2, 2), stride=(2, 2, 2))\n",
    "        self.conv4a = nn.Conv3d(256, 512, kernel_size=(3, 3, 3), padding=(1, 1, 1))\n",
    "        self.conv4b = nn.Conv3d(512, 512, kernel_size=(3, 3, 3), padding=(1, 1, 1))\n",
    "        self.pool4 = nn.MaxPool3d(kernel_size=(2, 2, 2), stride=(2, 2, 2))\n",
    "        self.conv5a = nn.Conv3d(512, 512, kernel_size=(3, 3, 3), padding=(1, 1, 1))\n",
    "        self.conv5b = nn.Conv3d(512, 512, kernel_size=(3, 3, 3), padding=(1, 1, 1))\n",
    "        self.pool5 = nn.MaxPool3d(kernel_size=(2, 2, 2), stride=(2, 2, 2))\n",
    "        self.fc6 = nn.Linear(8192, 4096)\n",
    "        self.fc7 = nn.Linear(4096, 4096)\n",
    "        self.fc8 = nn.Linear(4096, num_classes)\n",
    "\n",
    "    def forward(self, x):\n",
    "        # Pass the input through the network\n",
    "        x = self.conv1(x)\n",
    "        x = nn.functional.relu(x)\n",
    "        x = self.pool1(x)\n",
    "        x = self.conv2(x)\n",
    "        x = nn.functional.relu(x)\n",
    "        x = self.pool2(x)\n",
    "        x = self.conv3a(x)\n",
    "        x = nn.functional.relu(x)\n",
    "        x = self.conv3b(x)\n",
    "        x = nn.functional.relu(x)\n",
    "        x = self.pool3(x)\n",
    "        x = self.conv4a(x)\n",
    "        x = nn.functional.relu(x)\n",
    "        x = self.conv4b(x)\n",
    "        x = nn.functional.relu(x)\n",
    "        x = self.pool4(x)\n",
    "        x = self.conv5a(x)\n",
    "        x = nn.functional.relu(x)\n",
    "        x = self.conv5b(x)\n",
    "        x = nn.functional.relu(x)\n",
    "        x = self.pool5(x)\n",
    "        \n",
    "        x=self.fc6(x)\n",
    "        x=self.fc7(x)\n",
    "        x=self.fc8(x)\n",
    "        \n",
    "        \n",
    "        \n",
    "        return x"
   ]
  },
  {
   "cell_type": "markdown",
   "metadata": {
    "id": "2j37qM2Plf7o"
   },
   "source": [
    "아래의 코드를 실행해 코드를 성공적으로 완성했는지 확인해보세요. \n",
    "\n",
    "별다른 문제가 없다면 이어서 진행하면 됩니다."
   ]
  },
  {
   "cell_type": "code",
   "execution_count": 161,
   "metadata": {
    "colab": {
     "base_uri": "https://localhost:8080/",
     "height": 174
    },
    "executionInfo": {
     "elapsed": 6,
     "status": "error",
     "timestamp": 1677426898779,
     "user": {
      "displayName": "박재석",
      "userId": "08043462631904569995"
     },
     "user_tz": -540
    },
    "id": "WAo1ZY2_lf7p",
    "outputId": "7838d283-5a57-44fd-a656-46c15089ab4d"
   },
   "outputs": [],
   "source": [
    "import torch\n",
    "import torch.nn as nn\n",
    "\n",
    "class BasicBlock(nn.Module):\n",
    "    expansion = 1\n",
    "\n",
    "    def __init__(self, in_planes, planes, stride=1):\n",
    "        super(BasicBlock, self).__init__()\n",
    "        self.conv1 = nn.Conv3d(in_planes, planes, kernel_size=3, stride=stride, padding=1, bias=False)\n",
    "        self.bn1 = nn.BatchNorm3d(planes)\n",
    "        self.relu = nn.ReLU(inplace=True)\n",
    "        self.conv2 = nn.Conv3d(planes, planes, kernel_size=3, stride=1, padding=1, bias=False)\n",
    "        self.bn2 = nn.BatchNorm3d(planes)\n",
    "\n",
    "        self.shortcut = nn.Sequential()\n",
    "        if stride != 1 or in_planes != self.expansion*planes:\n",
    "            self.shortcut = nn.Sequential(\n",
    "                nn.Conv3d(in_planes, self.expansion*planes, kernel_size=1, stride=stride, bias=False),\n",
    "                nn.BatchNorm3d(self.expansion*planes)\n",
    "            )\n",
    "\n",
    "    def forward(self, x):\n",
    "        out = self.conv1(x)\n",
    "        out = self.bn1(out)\n",
    "        out = self.relu(out)\n",
    "\n",
    "        out = self.conv2(out)\n",
    "        out = self.bn2(out)\n",
    "\n",
    "        out += self.shortcut(x)\n",
    "        out = self.relu(out)\n",
    "        return out\n",
    "\n",
    "class ResNet18(nn.Module):\n",
    "    def __init__(self, num_classes=5):\n",
    "        super(ResNet18, self).__init__()\n",
    "        self.in_planes = 64\n",
    "\n",
    "        self.conv1 = nn.Conv3d(3, 64, kernel_size=3, stride=1, padding=1, bias=False)\n",
    "        self.bn1 = nn.BatchNorm3d(64)\n",
    "        self.relu = nn.ReLU(inplace=True)\n",
    "\n",
    "        self.layer1 = self._make_layer(64, 2, stride=1)\n",
    "        self.layer2 = self._make_layer(128, 2, stride=2)\n",
    "        self.layer3 = self._make_layer(256, 2, stride=2)\n",
    "        self.layer4 = self._make_layer(512, 2, stride=2)\n",
    "\n",
    "        self.avgpool = nn.AdaptiveAvgPool3d((1, 1, 1))\n",
    "        self.fc = nn.Linear(512, num_classes)\n",
    "\n",
    "    def _make_layer(self, planes, blocks, stride):\n",
    "        strides = [stride] + [1]*(blocks-1)\n",
    "        layers = []\n",
    "        for stride in strides:\n",
    "            layers.append(BasicBlock(self.in_planes, planes, stride))\n",
    "            self.in_planes = planes * BasicBlock.expansion\n",
    "        return nn.Sequential(*layers)\n",
    "\n",
    "    def forward(self, x):\n",
    "        out = self.conv1(x)\n",
    "        out = self.bn1(out)\n",
    "        out = self.relu(out)\n",
    "\n",
    "        out = self.layer1(out)\n",
    "        out = self.layer2(out)\n",
    "        out = self.layer3(out)\n",
    "        out = self.layer4(out)\n",
    "\n",
    "        out = self.avgpool(out)\n",
    "        out = out.view(out.size(0), -1)\n",
    "        out = self.fc(out)\n",
    "        return out"
   ]
  },
  {
   "cell_type": "markdown",
   "metadata": {
    "id": "zXlk9RPjlf7p"
   },
   "source": [
    "## 6. train, validation, test 함수 정의\n",
    "이번에는 훈련, 검증, 테스트를 진행하는 함수를 정의하겠습니다. "
   ]
  },
  {
   "cell_type": "markdown",
   "metadata": {
    "id": "DrOVMufklf7q"
   },
   "source": [
    "### <font color='red'>[TODO] 코드 구현: 훈련 함수</font>\n",
    "\n",
    "먼저 훈련 함수입니다. 다음을 읽고 코드를 완성해 보세요.\n",
    "\n",
    "`train` 함수에 여러 인자들이 보입니다. \n",
    "\n",
    "1. 모델(`model`)에 입력 이미지(`imgs`)를 전달하고 출력 결과를 `outputs`에 저장합니다.\n",
    "2. `criterion` 은 손실함수를 담은 객체입니다. 예측 값인 `outputs`와 라벨 값인 `labels`를 통해 손실값을 계산하고 그 결과를 `loss` 변수에 저장합니다.\n",
    "3. `optimizer`은 옵티마이저입니다. 이전에 계산한 기울기를 모두 clear하고, 오차 역전파(backpropagation)를 통해 기울기를 계산하고, 옵티마이저를 통해 파라미터를 업데이트합니다. \n",
    "\n",
    "일정한 에폭마다 다음에 구현할 `validation` 함수를 통해 검증을 수행합니다. 모델 검증을 수행했을 때, 만약 검증 과정의 평균 loss가 현재까지 가장 낮다면 가장 잘 훈련된 모델로 가정하고 그때까지 학습한 모델을 저장합니다. 저장은 추후에 구현할 `save_model` 함수가 수행합니다. \n",
    "\n",
    "**tarin 함수를 작성해보세요! \"<font color='45A07A'>## 코드 시작 ##</font>\"과 \"<font color='45A07A'>## 코드 종료 ##</font>\" 사이의 <font color='075D37'>None</font> 부분을 채우시면 됩니다.**"
   ]
  },
  {
   "cell_type": "code",
   "execution_count": 162,
   "metadata": {
    "executionInfo": {
     "elapsed": 356,
     "status": "ok",
     "timestamp": 1677478652534,
     "user": {
      "displayName": "박재석",
      "userId": "08043462631904569995"
     },
     "user_tz": -540
    },
    "id": "um5YgnSilf7q"
   },
   "outputs": [],
   "source": [
    "def train(num_epochs, model, data_loader, criterion, optimizer, saved_dir, val_every, device):\n",
    "    print('Start training..')\n",
    "    best_loss = 9999999\n",
    "    \n",
    "\n",
    "\n",
    "    # define the loss function\n",
    "    criterion = nn.CrossEntropyLoss()\n",
    "\n",
    "    # train the model\n",
    "    for epoch in range(num_epochs):\n",
    "        for i, (imgs, labels) in enumerate(data_loader):\n",
    "            imgs, labels = imgs.to(device), labels.to(device)\n",
    "\n",
    "            # forward pass\n",
    "            outputs = model(imgs)\n",
    "            loss = criterion(outputs, labels)\n",
    "\n",
    "            # calculate L2 regularization loss\n",
    "\n",
    "\n",
    "            # backward pass and optimization\n",
    "            optimizer.zero_grad()\n",
    "            loss.backward()\n",
    "            optimizer.step()\n",
    "\n",
    "            # calculate accuracy\n",
    "            _, argmax = torch.max(outputs, 1)\n",
    "            accuracy = (labels == argmax).float().mean()\n",
    "\n",
    "            if (i+1) % 3 == 0:\n",
    "                print('Epoch [{}/{}], Step [{}/{}], Loss: {:.4f}, Accuracy: {:.2f}%'.format(\n",
    "                    epoch+1, num_epochs, i+1, len(data_loader), loss.item(), accuracy.item() * 100))\n",
    "\n",
    "        if (epoch + 1) % val_every == 0:\n",
    "            avrg_loss = validation(epoch + 1, model, val_loader, criterion, device)\n",
    "            if avrg_loss < best_loss:\n",
    "                print('Best performance at epoch: {}'.format(epoch + 1))\n",
    "                print('Save model in', saved_dir)\n",
    "                best_loss = avrg_loss\n",
    "                save_model(model, saved_dir)\n"
   ]
  },
  {
   "cell_type": "code",
   "execution_count": null,
   "metadata": {
    "executionInfo": {
     "elapsed": 2,
     "status": "ok",
     "timestamp": 1677478652942,
     "user": {
      "displayName": "박재석",
      "userId": "08043462631904569995"
     },
     "user_tz": -540
    },
    "id": "SR7h3FgKtf57"
   },
   "outputs": [],
   "source": []
  },
  {
   "cell_type": "markdown",
   "metadata": {
    "id": "9CrdYa2jlf7r"
   },
   "source": [
    "### <font color='red'>[TODO] 코드 구현: 검증 함수</font>\n",
    "\n",
    "검증 함수입니다. 다음을 읽고 코드를 완성해보세요. \n",
    "\n",
    "- 검증 과정에서는 파라미터 업데이트를 하지 않기 때문에 기울기를 계산할 필요는 없습니다. 하지만 검증 과정에서의 평균 loss를 계산하기 위해 loss는 계산해야 합니다. \n",
    "- `train` 함수와 마찬가지로 `model`에 입력 이미지를 전달하여 얻은 출력 결과를 `outputs`에 저장하고, `criterion`을 통해 loss를 계산한 뒤, 그 결과를 `loss`에 저장합니다.\n",
    "\n",
    "모델 검증 과정에서는 [model.eval()](https://pytorch.org/docs/stable/nn.html?highlight=eval#torch.nn.Module.eval)을 통해 모델을 evaluation 모드로 작동해줘야 함을 기억하시기 바랍니다. Batch normalization 과 Dropout은 훈련과 검증시에 작동하는 방식이 다르기 때문입니다. 평가가 끝난 후에는 다시 [model.train()](https://pytorch.org/docs/stable/nn.html?highlight=module%20train#torch.nn.Module.train)을 통해 train 모드로 바꿔줘야 하는 사실도 잊지 마세요.\n",
    "\n",
    "**validation 함수를 작성해보세요! \"<font color='45A07A'>## 코드 시작 ##</font>\"과 \"<font color='45A07A'>## 코드 종료 ##</font>\" 사이의 <font color='075D37'>None</font> 부분을 채우시면 됩니다.**"
   ]
  },
  {
   "cell_type": "code",
   "execution_count": 163,
   "metadata": {
    "executionInfo": {
     "elapsed": 3,
     "status": "ok",
     "timestamp": 1677478653648,
     "user": {
      "displayName": "박재석",
      "userId": "08043462631904569995"
     },
     "user_tz": -540
    },
    "id": "8tS_Rmswlf7r"
   },
   "outputs": [],
   "source": [
    "def validation(epoch, model, data_loader, criterion, device):\n",
    "    print('Start validation #{}'.format(epoch) )\n",
    "    model.eval()\n",
    "    with torch.no_grad():\n",
    "        total = 0\n",
    "        correct = 0\n",
    "        total_loss = 0\n",
    "        cnt = 0\n",
    "        for i, (imgs, labels) in enumerate(data_loader):\n",
    "            imgs, labels = imgs.to(device), labels.to(device)\n",
    "            ## b코드 시작 ##\n",
    "            outputs = model(imgs)\n",
    "            loss = criterion(outputs,labels)\n",
    "            ## 코드 종료 ##\n",
    "            total += imgs.size(0)\n",
    "            _, argmax = torch.max(outputs, 1)\n",
    "            correct += (labels == argmax).sum().item()\n",
    "            total_loss += loss\n",
    "            cnt += 1\n",
    "        avrg_loss = total_loss / cnt\n",
    "        print('Validation #{}  Accuracy: {:.2f}%  Average Loss: {:.4f}'.format(epoch, correct / total * 100, avrg_loss))\n",
    "    model.train()\n",
    "    return avrg_loss"
   ]
  },
  {
   "cell_type": "code",
   "execution_count": 164,
   "metadata": {
    "executionInfo": {
     "elapsed": 2,
     "status": "ok",
     "timestamp": 1677478653648,
     "user": {
      "displayName": "박재석",
      "userId": "08043462631904569995"
     },
     "user_tz": -540
    },
    "id": "nHlGlRwebDKU"
   },
   "outputs": [],
   "source": [
    "# nb_classes = 9\n",
    "# confusion_matrix = np.zeros((nb_classes, nb_classes))\n",
    "# with torch.no_grad():\n",
    "#     for i, (inputs, classes) in enumerate(test_loader):\n",
    "#         inputs = inputs.to(DEVICE)\n",
    "#         classes = classes.to(DEVICE)\n",
    "#         outputs = model(inputs)\n",
    "#         _, preds = torch.max(outputs, 1)\n",
    "#         for t, p in zip(classes.view(-1), preds.view(-1)):\n",
    "#                 confusion_matrix[t.long(), p.long()] += 1\n",
    "\n",
    "# plt.figure(figsize=(15,10))\n",
    "\n",
    "# class_names = list(label2class.values())\n",
    "# df_cm = pd.DataFrame(confusion_matrix, index=class_names, columns=class_names).astype(int)\n",
    "# heatmap = sns.heatmap(df_cm, annot=True, fmt=\"d\")\n",
    "\n",
    "# heatmap.yaxis.set_ticklabels(heatmap.yaxis.get_ticklabels(), rotation=0, ha='right',fontsize=15)\n",
    "# heatmap.xaxis.set_ticklabels(heatmap.xaxis.get_ticklabels(), rotation=45, ha='right',fontsize=15)\n",
    "# plt.ylabel('True label')\n",
    "# plt.xlabel('Predicted label')\n"
   ]
  },
  {
   "cell_type": "code",
   "execution_count": null,
   "metadata": {
    "executionInfo": {
     "elapsed": 2,
     "status": "ok",
     "timestamp": 1677478653648,
     "user": {
      "displayName": "박재석",
      "userId": "08043462631904569995"
     },
     "user_tz": -540
    },
    "id": "jjr079jAbOrx"
   },
   "outputs": [],
   "source": []
  },
  {
   "cell_type": "markdown",
   "metadata": {
    "id": "7MB9TJJulf7r"
   },
   "source": [
    "### <font color='red'>[TODO] 코드 구현: 테스트 함수</font>\n",
    "테스트 함수입니다. 다음을 읽고 코드를 완성해보세요.\n",
    "\n",
    "- `model`에 입력 이미지를 전달하여 얻은 출력 결과를 `outputs`에 저장합니다\n",
    "\n",
    "테스트에서는 loss를 계산할 필요가 없고, 전체 정확도를 통해 모델의 성능을 확인하면 됩니다. \n",
    "\n",
    "**test 함수를 작성해보세요! \"<font color='45A07A'>## 코드 시작 ##</font>\"과 \"<font color='45A07A'>## 코드 종료 ##</font>\" 사이의 <font color='075D37'>None</font> 부분을 채우시면 됩니다.**"
   ]
  },
  {
   "cell_type": "code",
   "execution_count": 165,
   "metadata": {
    "executionInfo": {
     "elapsed": 1365,
     "status": "ok",
     "timestamp": 1677478655838,
     "user": {
      "displayName": "박재석",
      "userId": "08043462631904569995"
     },
     "user_tz": -540
    },
    "id": "4bsBxF-ilf7s"
   },
   "outputs": [],
   "source": [
    "import numpy as np\n",
    "import matplotlib.pyplot as plt\n",
    "import seaborn as sns\n",
    "from sklearn.metrics import confusion_matrix\n",
    "import math\n",
    "def plot_confusion_matrix(cm, labels, title='Confusion Matrix', cmap='Blues'):\n",
    "   \n",
    "     # Normalize the confusion matrix to show percentages\n",
    "\n",
    "    plt.figure(figsize=(8,6))\n",
    "    sns.heatmap(cm*100/54, annot=True, cmap=cmap, fmt='.2f')\n",
    "    plt.title(title)\n",
    "    plt.xlabel('Predicted Label')\n",
    "    plt.ylabel('True Label')\n",
    "    tick_marks = np.arange(len(labels))\n",
    "    plt.xticks(tick_marks, labels, rotation=45)\n",
    "    plt.yticks(tick_marks, labels)\n",
    "    plt.tight_layout()\n",
    "    plt.show()\n",
    "\n",
    "def test(model, data_loader, device, num_classes):\n",
    "    print('Start test..')\n",
    "    model.eval()\n",
    "    with torch.no_grad():\n",
    "        correct = 0\n",
    "        total = 0\n",
    "        true_labels = []\n",
    "        predicted_labels = []\n",
    "        for i, (imgs, labels) in enumerate(data_loader):\n",
    "            imgs, labels = imgs.to(device), labels.to(device)\n",
    "            ## 코드 시작 ##\n",
    "            outputs = model(imgs)\n",
    "            ## 코드 종료 ##\n",
    "            _, argmax = torch.max(outputs, 1)    # max()를 통해 최종 출력이 가장 높은 class 선택\n",
    "            total += imgs.size(0)\n",
    "            correct += (labels == argmax).sum().item()\n",
    "            true_labels.extend(labels.cpu().numpy().tolist())\n",
    "            predicted_labels.extend(argmax.cpu().numpy().tolist())\n",
    "\n",
    "        print('Test accuracy for {} images: {:.2f}%'.format(total, correct / total * 100))\n",
    "        cm = confusion_matrix(true_labels, predicted_labels,labels=np.arange(num_classes))\n",
    "        print('Confusion Matrix:')\n",
    "        \n",
    "        plot_confusion_matrix(cm, labels=np.arange(num_classes),title='Confusion Matrix Heatmap',cmap='Blues')\n",
    "        \n",
    "        print(cm)\n",
    "    model.train()"
   ]
  },
  {
   "cell_type": "markdown",
   "metadata": {
    "id": "BUQ60cQqlf7s"
   },
   "source": [
    "## 7. 모델 저장 함수 정의\n",
    "모델을 저장하는 함수입니다. 모델 저장은 [`torch.save`](https://pytorch.org/docs/stable/torch.html?highlight=save#torch.save) 함수를 통해 할 수 있습니다. \n",
    "[`nn.Module.state_dict`](https://pytorch.org/docs/stable/nn.html?highlight=state_dict#torch.nn.Module.state_dict)를 통해 Module, 즉 우리 모델의 파라미터를 가져올 수 있습니다. 이렇게 불러온 파라미터를 **check_point** 딕셔너리에 저장합니다. 그리고 이 **check_point**를 정해준 경로에 저장하면 됩니다. \n",
    "\n",
    "[PyTorch 공식 튜토리얼](https://pytorch.org/tutorials/beginner/saving_loading_models.html)에서 모델을 저장하고 불러오는 방법에 대한 예제를 확인하실 수 있습니다. \n",
    "\n",
    "`torch.save` 는 단순히 모델의 파라미터만 저장하는 함수가 아닙니다. 어떤 파이썬 객체든 저장할 수 있습니다. 그래서 경우에 따라 **check_point** 딕셔너리에 모델의 파라미터 뿐만 아니라 다른 여러 가지 필요한 정보를 저장할 수도 있습니다. 예를 들어 총 몇 에폭동안 학습한 모델인지 그 정보도 저장할 수 있겠죠? \n",
    "\n",
    "### <font color='red'>[TODO] 코드 구현</font>\n",
    "다음을 읽고 코드를 완성해보세요.\n",
    "- torch.save를 통해 `output_path` 경로에 `check_point` 를 저장하세요.\n",
    "\n",
    "**save_model 함수를 작성해보세요! \"<font color='45A07A'>## 코드 시작 ##</font>\"과 \"<font color='45A07A'>## 코드 종료 ##</font>\" 사이의 <font color='075D37'>None</font> 부분을 채우시면 됩니다.**"
   ]
  },
  {
   "cell_type": "code",
   "execution_count": 166,
   "metadata": {
    "executionInfo": {
     "elapsed": 2,
     "status": "ok",
     "timestamp": 1677478655838,
     "user": {
      "displayName": "박재석",
      "userId": "08043462631904569995"
     },
     "user_tz": -540
    },
    "id": "_xcotU9Ylf7s"
   },
   "outputs": [],
   "source": [
    "def save_model(model, saved_dir, file_name='best_model.pt'):\n",
    "    os.makedirs(saved_dir, exist_ok=True)\n",
    "    check_point = {\n",
    "        'net': model.state_dict()\n",
    "    }\n",
    "    output_path = os.path.join(saved_dir, file_name)\n",
    "    ## 코드 시작 ##\n",
    "    torch.save(check_point,output_path)\n",
    "    ## 코드 종료 ##"
   ]
  },
  {
   "cell_type": "markdown",
   "metadata": {
    "id": "zG6LPYLglf7t"
   },
   "source": [
    "## 8. 모델 생성 및 Loss function, Optimizer 정의\n",
    "\n",
    "생성한 모델을 학습 시키기 위해서 손실함수를 정의해야 합니다. 뉴럴네트워크는 경사하강(gradient descent)방법을 이용하여 손실함수의 값을 줄이는 방향으로 파라미터를 갱신(update) 하게 됩니다. 또한 효과적인 경사하강 방법을 적용하기 위해 옵티마이져를 함께 사용할 겁니다.\n",
    "\n",
    "### <font color='red'>[TODO] 코드 구현</font>\n",
    "\n",
    "다음을 읽고 코드를 완성해보세요. \n",
    "1. **<5. 네트워크 설계>** 에서 정의한 SimpleCNN class를 통해 모델을 생성하고 이를 **model** 변수에 저장합니다.\n",
    "2. 분류 문제에서는 손실함수로 Cross Entropy Loss를 사용합니다. Cross Entropy Loss Function([`nn.CrossEntropyLoss`](https://pytorch.org/docs/stable/nn.html?highlight=crossentropy#torch.nn.CrossEntropyLoss))을 만들고 `criterion` 변수에 저장합니다.\n",
    "3. 이번 실습에서는 Adam 옵티마이저를 통해 파라미터를 업데이트 하겠습니다. Adam optimizer([`torch.optim.Adam`](https://pytorch.org/docs/stable/optim.html?highlight=adam#torch.optim.Adam))를 `optimizer` 변수에 저장합니다. **<3. 하이퍼파라미터 세팅>** 에서 정의한 `learning_rate` 를 사용하세요.\n",
    "\n",
    "`val_every`는 검증을 몇 에폭마다 진행할지 정하는 변수입니다. `saved_dir`은 모델이 저장될 디렉토리의 경로입니다. \n",
    "\n",
    "**모델을 생성하고 손실함수 및 옵티마이저를 작성해보세요! \"<font color='45A07A'>## 코드 시작 ##</font>\"과 \"<font color='45A07A'>## 코드 종료 ##</font>\" 사이의 <font color='075D37'>None</font> 부분을 채우시면 됩니다.**"
   ]
  },
  {
   "cell_type": "code",
   "execution_count": 167,
   "metadata": {
    "executionInfo": {
     "elapsed": 390,
     "status": "ok",
     "timestamp": 1677478657010,
     "user": {
      "displayName": "박재석",
      "userId": "08043462631904569995"
     },
     "user_tz": -540
    },
    "id": "bn0-JUUilf7t",
    "scrolled": false
   },
   "outputs": [],
   "source": [
    "\n",
    "\n",
    "# define the L2 regularization strength\n",
    "\n",
    "# create the optimizer and add L2 regularization to it\n",
    "\n",
    "# import torchvision.models.video as models\n",
    "import torchvision.models.video as models\n",
    "# # Load the pre-trained model\n",
    "# model = models.r3d_18(pretrained=True)  # 위의 설명 1. 을 참고하여 None을 채우세요.  \n",
    "# model = model.to(device)\n",
    "import torch\n",
    "import torchvision\n",
    "\n",
    "# Load the pretrained SlowOnly model\n",
    "\n",
    "\n",
    "# Print the model architecture\n",
    "\n",
    "model = models.mc3_18(pretrained=True)  # 위의 설명 1. 을 참고하여 None을 채우세요.  \n",
    "model = model.to(device)\n",
    "\n",
    "num_ftrs = model.fc.in_features\n",
    "## 코드 시작 ##\n",
    "model.fc = nn.Linear(num_ftrs,8) \n",
    "\n",
    "model = model.to(device)\n",
    "# # Load the pre-trained model\n",
    "# model = ResNet18()\n",
    "#  # 위의 설명 1. 을 참고하여 None을 채우세요.  \n",
    "# model = model.to(device)\n",
    "\n",
    "criterion = nn.CrossEntropyLoss()      # 위의 설명 2. 를 참고하여 None을 채우세요.\n",
    "optimizer = optimizer = torch.optim.Adam(model.parameters(), lr=learning_rate)    # 위의 설명 3. 을 참고하여 None을 채우세요.\n",
    "## 코드 종료 ##\n",
    "CUDA_LAUNCH_BLOCKING=1.\n",
    "model = model.to(device)\n",
    "val_every = 1\n",
    "saved_dir = './saved/SimpleCNN'"
   ]
  },
  {
   "cell_type": "code",
   "execution_count": null,
   "metadata": {},
   "outputs": [],
   "source": []
  },
  {
   "cell_type": "code",
   "execution_count": 168,
   "metadata": {
    "colab": {
     "base_uri": "https://localhost:8080/"
    },
    "executionInfo": {
     "elapsed": 1949,
     "status": "ok",
     "timestamp": 1677478664818,
     "user": {
      "displayName": "박재석",
      "userId": "08043462631904569995"
     },
     "user_tz": -540
    },
    "id": "u4tgHsQjTIHf",
    "outputId": "aead3b0c-1c08-4b5f-de6f-1e7c73842eba"
   },
   "outputs": [
    {
     "name": "stdout",
     "output_type": "stream",
     "text": [
      "----------------------------------------------------------------\n",
      "        Layer (type)               Output Shape         Param #\n",
      "================================================================\n",
      "            Conv3d-1       [-1, 64, 30, 30, 30]          28,224\n",
      "       BatchNorm3d-2       [-1, 64, 30, 30, 30]             128\n",
      "              ReLU-3       [-1, 64, 30, 30, 30]               0\n",
      "      Conv3DSimple-4       [-1, 64, 30, 30, 30]         110,592\n",
      "       BatchNorm3d-5       [-1, 64, 30, 30, 30]             128\n",
      "              ReLU-6       [-1, 64, 30, 30, 30]               0\n",
      "      Conv3DSimple-7       [-1, 64, 30, 30, 30]         110,592\n",
      "       BatchNorm3d-8       [-1, 64, 30, 30, 30]             128\n",
      "              ReLU-9       [-1, 64, 30, 30, 30]               0\n",
      "       BasicBlock-10       [-1, 64, 30, 30, 30]               0\n",
      "     Conv3DSimple-11       [-1, 64, 30, 30, 30]         110,592\n",
      "      BatchNorm3d-12       [-1, 64, 30, 30, 30]             128\n",
      "             ReLU-13       [-1, 64, 30, 30, 30]               0\n",
      "     Conv3DSimple-14       [-1, 64, 30, 30, 30]         110,592\n",
      "      BatchNorm3d-15       [-1, 64, 30, 30, 30]             128\n",
      "             ReLU-16       [-1, 64, 30, 30, 30]               0\n",
      "       BasicBlock-17       [-1, 64, 30, 30, 30]               0\n",
      " Conv3DNoTemporal-18      [-1, 128, 30, 15, 15]          73,728\n",
      "      BatchNorm3d-19      [-1, 128, 30, 15, 15]             256\n",
      "             ReLU-20      [-1, 128, 30, 15, 15]               0\n",
      " Conv3DNoTemporal-21      [-1, 128, 30, 15, 15]         147,456\n",
      "      BatchNorm3d-22      [-1, 128, 30, 15, 15]             256\n",
      "           Conv3d-23      [-1, 128, 30, 15, 15]           8,192\n",
      "      BatchNorm3d-24      [-1, 128, 30, 15, 15]             256\n",
      "             ReLU-25      [-1, 128, 30, 15, 15]               0\n",
      "       BasicBlock-26      [-1, 128, 30, 15, 15]               0\n",
      " Conv3DNoTemporal-27      [-1, 128, 30, 15, 15]         147,456\n",
      "      BatchNorm3d-28      [-1, 128, 30, 15, 15]             256\n",
      "             ReLU-29      [-1, 128, 30, 15, 15]               0\n",
      " Conv3DNoTemporal-30      [-1, 128, 30, 15, 15]         147,456\n",
      "      BatchNorm3d-31      [-1, 128, 30, 15, 15]             256\n",
      "             ReLU-32      [-1, 128, 30, 15, 15]               0\n",
      "       BasicBlock-33      [-1, 128, 30, 15, 15]               0\n",
      " Conv3DNoTemporal-34        [-1, 256, 30, 8, 8]         294,912\n",
      "      BatchNorm3d-35        [-1, 256, 30, 8, 8]             512\n",
      "             ReLU-36        [-1, 256, 30, 8, 8]               0\n",
      " Conv3DNoTemporal-37        [-1, 256, 30, 8, 8]         589,824\n",
      "      BatchNorm3d-38        [-1, 256, 30, 8, 8]             512\n",
      "           Conv3d-39        [-1, 256, 30, 8, 8]          32,768\n",
      "      BatchNorm3d-40        [-1, 256, 30, 8, 8]             512\n",
      "             ReLU-41        [-1, 256, 30, 8, 8]               0\n",
      "       BasicBlock-42        [-1, 256, 30, 8, 8]               0\n",
      " Conv3DNoTemporal-43        [-1, 256, 30, 8, 8]         589,824\n",
      "      BatchNorm3d-44        [-1, 256, 30, 8, 8]             512\n",
      "             ReLU-45        [-1, 256, 30, 8, 8]               0\n",
      " Conv3DNoTemporal-46        [-1, 256, 30, 8, 8]         589,824\n",
      "      BatchNorm3d-47        [-1, 256, 30, 8, 8]             512\n",
      "             ReLU-48        [-1, 256, 30, 8, 8]               0\n",
      "       BasicBlock-49        [-1, 256, 30, 8, 8]               0\n",
      " Conv3DNoTemporal-50        [-1, 512, 30, 4, 4]       1,179,648\n",
      "      BatchNorm3d-51        [-1, 512, 30, 4, 4]           1,024\n",
      "             ReLU-52        [-1, 512, 30, 4, 4]               0\n",
      " Conv3DNoTemporal-53        [-1, 512, 30, 4, 4]       2,359,296\n",
      "      BatchNorm3d-54        [-1, 512, 30, 4, 4]           1,024\n",
      "           Conv3d-55        [-1, 512, 30, 4, 4]         131,072\n",
      "      BatchNorm3d-56        [-1, 512, 30, 4, 4]           1,024\n",
      "             ReLU-57        [-1, 512, 30, 4, 4]               0\n",
      "       BasicBlock-58        [-1, 512, 30, 4, 4]               0\n",
      " Conv3DNoTemporal-59        [-1, 512, 30, 4, 4]       2,359,296\n",
      "      BatchNorm3d-60        [-1, 512, 30, 4, 4]           1,024\n",
      "             ReLU-61        [-1, 512, 30, 4, 4]               0\n",
      " Conv3DNoTemporal-62        [-1, 512, 30, 4, 4]       2,359,296\n",
      "      BatchNorm3d-63        [-1, 512, 30, 4, 4]           1,024\n",
      "             ReLU-64        [-1, 512, 30, 4, 4]               0\n",
      "       BasicBlock-65        [-1, 512, 30, 4, 4]               0\n",
      "AdaptiveAvgPool3d-66         [-1, 512, 1, 1, 1]               0\n",
      "           Linear-67                    [-1, 8]           4,104\n",
      "================================================================\n",
      "Total params: 11,494,344\n",
      "Trainable params: 11,494,344\n",
      "Non-trainable params: 0\n",
      "----------------------------------------------------------------\n",
      "Input size (MB): 1.24\n",
      "Forward/backward pass size (MB): 419.59\n",
      "Params size (MB): 43.85\n",
      "Estimated Total Size (MB): 464.68\n",
      "----------------------------------------------------------------\n"
     ]
    }
   ],
   "source": [
    "from torchsummary import summary\n",
    "summary(model,input_size=(3,30,60,60))"
   ]
  },
  {
   "cell_type": "markdown",
   "metadata": {
    "id": "q6MCTeMMlf7t"
   },
   "source": [
    "아래의 코드를 실행해 코드를 성공적으로 완성했는지 확인해보세요. \n",
    "\n",
    "별다른 문제가 없다면 이어서 진행하면 됩니다."
   ]
  },
  {
   "cell_type": "code",
   "execution_count": null,
   "metadata": {
    "colab": {
     "base_uri": "https://localhost:8080/",
     "height": 193
    },
    "executionInfo": {
     "elapsed": 4,
     "status": "error",
     "timestamp": 1677424221973,
     "user": {
      "displayName": "박재석",
      "userId": "08043462631904569995"
     },
     "user_tz": -540
    },
    "id": "OeOF3PBKlf7u",
    "outputId": "cf02bc34-5e8b-4512-b15e-a6a87d1a7bd1"
   },
   "outputs": [],
   "source": []
  },
  {
   "cell_type": "markdown",
   "metadata": {
    "id": "3EZbgqc7lf7u"
   },
   "source": [
    "\n",
    "## 9. Training\n",
    "\n",
    "**<6. train, validation, test 함수 정의>** 에서 작성한 `train` 함수를 통해 학습을 진행합니다. 네트워크의 규모가 큰 편이 아니지만, CPU를 통해 학습되기 때문에 시간이 조금 필요합니다. 컴퓨터 성능에 따라 20~30분의 시간이 소요될 수 있습니다. 시간 여유가 없는 분들은 모델 학습이 적당히 진행된다는 정도만 확인하고 다음 단계로 넘어가셔도 됩니다. \n",
    "\n",
    "만약 어느정도 기다렸음에도 학습 accuracy가 50%를 넘는 양상을 보이지 않는다면 구현한 코드에 문제가 있을 수 있습니다. 이러한 경우에는 구현한 train 함수를 다시 한 번 확인하시기 바랍니다. \n",
    "\n",
    "또한, 모델 저장 코드를 제대로 구현했다면 첫 에폭 학습후에 ./saved/SimpleCNN 경로에 best_model.pt 파일이 저장되어 있어야 합니다. 만약에 파일이 존재하지 않는다면 모델 저장 코드를 다시 확인하시기 바랍니다."
   ]
  },
  {
   "cell_type": "code",
   "execution_count": null,
   "metadata": {
    "colab": {
     "base_uri": "https://localhost:8080/",
     "height": 346
    },
    "executionInfo": {
     "elapsed": 10441,
     "status": "error",
     "timestamp": 1677478683665,
     "user": {
      "displayName": "박재석",
      "userId": "08043462631904569995"
     },
     "user_tz": -540
    },
    "id": "gka-_OZQlf7u",
    "outputId": "14fa5983-fab2-4afd-90ac-b7b4770d699a"
   },
   "outputs": [
    {
     "name": "stdout",
     "output_type": "stream",
     "text": [
      "Start training..\n",
      "Epoch [1/20], Step [3/33], Loss: 1.9329, Accuracy: 30.00%\n",
      "Epoch [1/20], Step [6/33], Loss: 1.4442, Accuracy: 62.50%\n",
      "Epoch [1/20], Step [9/33], Loss: 1.1539, Accuracy: 65.00%\n",
      "Epoch [1/20], Step [12/33], Loss: 1.0521, Accuracy: 72.50%\n",
      "Epoch [1/20], Step [15/33], Loss: 0.7717, Accuracy: 77.50%\n",
      "Epoch [1/20], Step [18/33], Loss: 0.8009, Accuracy: 75.00%\n",
      "Epoch [1/20], Step [21/33], Loss: 0.8437, Accuracy: 70.00%\n",
      "Epoch [1/20], Step [24/33], Loss: 0.4927, Accuracy: 85.00%\n",
      "Epoch [1/20], Step [27/33], Loss: 0.8430, Accuracy: 72.50%\n",
      "Epoch [1/20], Step [30/33], Loss: 0.6014, Accuracy: 82.50%\n",
      "Epoch [1/20], Step [33/33], Loss: 0.7712, Accuracy: 70.00%\n",
      "Start validation #1\n",
      "Validation #1  Accuracy: 77.75%  Average Loss: 0.6883\n",
      "Best performance at epoch: 1\n",
      "Save model in ./saved/SimpleCNN\n",
      "Epoch [2/20], Step [3/33], Loss: 0.4773, Accuracy: 85.00%\n",
      "Epoch [2/20], Step [6/33], Loss: 0.2838, Accuracy: 90.00%\n",
      "Epoch [2/20], Step [9/33], Loss: 0.4954, Accuracy: 80.00%\n",
      "Epoch [2/20], Step [12/33], Loss: 0.3906, Accuracy: 90.00%\n",
      "Epoch [2/20], Step [15/33], Loss: 0.4496, Accuracy: 87.50%\n",
      "Epoch [2/20], Step [18/33], Loss: 0.3043, Accuracy: 90.00%\n",
      "Epoch [2/20], Step [21/33], Loss: 0.7878, Accuracy: 75.00%\n",
      "Epoch [2/20], Step [24/33], Loss: 0.4066, Accuracy: 87.50%\n",
      "Epoch [2/20], Step [27/33], Loss: 0.5382, Accuracy: 80.00%\n",
      "Epoch [2/20], Step [30/33], Loss: 0.2825, Accuracy: 92.50%\n",
      "Epoch [2/20], Step [33/33], Loss: 0.6534, Accuracy: 77.50%\n",
      "Start validation #2\n",
      "Validation #2  Accuracy: 80.50%  Average Loss: 0.6201\n",
      "Best performance at epoch: 2\n",
      "Save model in ./saved/SimpleCNN\n",
      "Epoch [3/20], Step [3/33], Loss: 0.1853, Accuracy: 97.50%\n",
      "Epoch [3/20], Step [6/33], Loss: 0.1739, Accuracy: 97.50%\n",
      "Epoch [3/20], Step [9/33], Loss: 0.2204, Accuracy: 95.00%\n",
      "Epoch [3/20], Step [12/33], Loss: 0.2738, Accuracy: 85.00%\n",
      "Epoch [3/20], Step [15/33], Loss: 0.1287, Accuracy: 100.00%\n",
      "Epoch [3/20], Step [18/33], Loss: 0.2614, Accuracy: 97.50%\n",
      "Epoch [3/20], Step [21/33], Loss: 0.1268, Accuracy: 97.50%\n",
      "Epoch [3/20], Step [24/33], Loss: 0.0856, Accuracy: 97.50%\n",
      "Epoch [3/20], Step [27/33], Loss: 0.1715, Accuracy: 92.50%\n",
      "Epoch [3/20], Step [30/33], Loss: 0.2612, Accuracy: 92.50%\n",
      "Epoch [3/20], Step [33/33], Loss: 0.2645, Accuracy: 87.50%\n",
      "Start validation #3\n",
      "Validation #3  Accuracy: 83.25%  Average Loss: 0.5933\n",
      "Best performance at epoch: 3\n",
      "Save model in ./saved/SimpleCNN\n",
      "Epoch [4/20], Step [3/33], Loss: 0.0576, Accuracy: 100.00%\n",
      "Epoch [4/20], Step [6/33], Loss: 0.1839, Accuracy: 95.00%\n",
      "Epoch [4/20], Step [9/33], Loss: 0.1311, Accuracy: 95.00%\n",
      "Epoch [4/20], Step [12/33], Loss: 0.0685, Accuracy: 100.00%\n",
      "Epoch [4/20], Step [15/33], Loss: 0.1161, Accuracy: 95.00%\n",
      "Epoch [4/20], Step [18/33], Loss: 0.1635, Accuracy: 92.50%\n",
      "Epoch [4/20], Step [21/33], Loss: 0.1393, Accuracy: 95.00%\n",
      "Epoch [4/20], Step [24/33], Loss: 0.0906, Accuracy: 97.50%\n",
      "Epoch [4/20], Step [27/33], Loss: 0.1517, Accuracy: 95.00%\n",
      "Epoch [4/20], Step [30/33], Loss: 0.1300, Accuracy: 95.00%\n",
      "Epoch [4/20], Step [33/33], Loss: 0.2271, Accuracy: 92.50%\n",
      "Start validation #4\n",
      "Validation #4  Accuracy: 77.75%  Average Loss: 0.7819\n",
      "Epoch [5/20], Step [3/33], Loss: 0.0598, Accuracy: 100.00%\n",
      "Epoch [5/20], Step [6/33], Loss: 0.0291, Accuracy: 100.00%\n",
      "Epoch [5/20], Step [9/33], Loss: 0.1303, Accuracy: 97.50%\n",
      "Epoch [5/20], Step [12/33], Loss: 0.1131, Accuracy: 97.50%\n",
      "Epoch [5/20], Step [15/33], Loss: 0.0916, Accuracy: 97.50%\n",
      "Epoch [5/20], Step [18/33], Loss: 0.0594, Accuracy: 97.50%\n",
      "Epoch [5/20], Step [21/33], Loss: 0.0494, Accuracy: 100.00%\n",
      "Epoch [5/20], Step [24/33], Loss: 0.0741, Accuracy: 100.00%\n"
     ]
    }
   ],
   "source": [
    "train(3, model, train_loader, criterion, optimizer, saved_dir, val_every, device)"
   ]
  },
  {
   "cell_type": "code",
   "execution_count": 354,
   "metadata": {
    "id": "V_a2N39r7aGn"
   },
   "outputs": [
    {
     "ename": "SyntaxError",
     "evalue": "invalid syntax (2044285001.py, line 1)",
     "output_type": "error",
     "traceback": [
      "\u001b[0;36m  Input \u001b[0;32mIn [354]\u001b[0;36m\u001b[0m\n\u001b[0;31m    elif basename.startswith(\"animation.9.\"):\u001b[0m\n\u001b[0m    ^\u001b[0m\n\u001b[0;31mSyntaxError\u001b[0m\u001b[0;31m:\u001b[0m invalid syntax\n"
     ]
    }
   ],
   "source": [
    "        elif basename.startswith(\"animation.9.\"):\n",
    "#             label = 6 #\"발차기\""
   ]
  },
  {
   "cell_type": "code",
   "execution_count": null,
   "metadata": {},
   "outputs": [],
   "source": []
  },
  {
   "cell_type": "markdown",
   "metadata": {
    "id": "xmnw8nuElf7u"
   },
   "source": [
    "## 10. 저장된 모델 불러오기 및 test\n",
    "학습한 모델의 성능을 테스트합니다. 저장한 모델 파일을 [`torch.load`](https://pytorch.org/docs/stable/torch.html?highlight=load#torch.load)를 통해 불러옵니다. 위에서 학습을 끝까지 진행하지 않았다면, 아래의 주석 처리된 부분을 주석 해제하면, 제공해드린 미리 학습시킨 모델을 불러올 수 있습니다. \n",
    "\n",
    "이렇게 불러오면 우리가 얻게 되는 건 아까 저장한 **check_point** 딕셔너리입니다. 딕셔너리에 저장한 모델의 파라미터는 **'net'** key에 저장해두었습니다. 이를 불러와 **state_dict**에 저장합니다. 이렇게 불러온 모델의 파라미터를 모델에 실제로 로드하기 위해서는 [`nn.Module.load_state_dict`](https://pytorch.org/docs/stable/torch.html?highlight=load#torch.load)를 사용하면 됩니다.  \n",
    "\n",
    "### <font color='red'>[TODO] 코드 구현</font>\n",
    "다음을 읽고 코드를 완성해보세요.\n",
    "\n",
    "1. `model_path`의 경로에 있는 모델 파일을 로드하여, 이를 `check_point` 변수에 저장합니다. 또한, 미리저장된 모델이 GPU로 학습했는데 CPU 로 불러올 경우, 파이토치에서 모델을 불러오는 함수에 `map_location` 인자에 `device` 정보를 전달해야 적용됩니다. (즉, 함수에 `map_location=device` 가 되어야 합니다.) `device` 변수는 **<1. Package load>** 에서 이미 선언했습니다.\n",
    "2. `check_point` 딕셔너리에 접근하여 모델의 파라미터를 `state_dict` 변수에 저장합니다. 접근을 위한 딕셔너리의 키값은 'net' 입니다.\n",
    "3. `state_dict`의 파라미터들을 새로 선언한 모델(`model`)에 로드합니다.\n",
    "\n",
    "**새로 선언한 `model` 에 저장된 파라미터를 불러오는 코드를 작성해보세요! \"<font color='45A07A'>## 코드 시작 ##</font>\"과 \"<font color='45A07A'>## 코드 종료 ##</font>\" 사이의 <font color='075D37'>None</font> 부분을 채우시면 됩니다.**"
   ]
  },
  {
   "cell_type": "code",
   "execution_count": 129,
   "metadata": {
    "colab": {
     "base_uri": "https://localhost:8080/"
    },
    "executionInfo": {
     "elapsed": 4,
     "status": "ok",
     "timestamp": 1677427501237,
     "user": {
      "displayName": "박재석",
      "userId": "08043462631904569995"
     },
     "user_tz": -540
    },
    "id": "MyAfHjw7lf7v",
    "outputId": "fe882cd4-4ef7-42b5-8090-632a57f746fc"
   },
   "outputs": [
    {
     "data": {
      "text/plain": [
       "<All keys matched successfully>"
      ]
     },
     "execution_count": 129,
     "metadata": {},
     "output_type": "execute_result"
    }
   ],
   "source": [
    "model_path = './saved/SimpleCNN/best_model.pt'\n",
    "#model_path = './saved/pretrained/SimpleCNN/best_model.pt' # 모델 학습을 끝까지 진행하지 않은 경우에 사용\n",
    "model = model.to(device)   # 아래의 모델 불러오기를 정확히 구현했는지 확인하기 위해 새로 모델을 선언하여 학습 이전 상태로 초기화\n",
    "\n",
    "## 코드 시작 ##\n",
    "checkpoint = torch.load(model_path,map_location=device)   # 위의 설명 1. 을 참고하여 None을 채우세요.\n",
    "state_dict    = checkpoint['net']   # 위의 설명 2. 를 참고하여 None을 채우세요.\n",
    "model.load_state_dict(state_dict)                  # 위의 설명 3. 을 참고하여 None을 채우세요.\n",
    "## 코드 종료 ##"
   ]
  },
  {
   "cell_type": "markdown",
   "metadata": {
    "id": "SFdV6vRPlf7v"
   },
   "source": [
    "마지막으로 모델의 성능을 테스트합니다. 75% 내외의 성능이 나온다면 학습 및 모델 불러오기가 성공적으로 진행된 것입니다. "
   ]
  },
  {
   "cell_type": "code",
   "execution_count": 151,
   "metadata": {
    "colab": {
     "base_uri": "https://localhost:8080/",
     "height": 661
    },
    "executionInfo": {
     "elapsed": 5437,
     "status": "ok",
     "timestamp": 1677427510254,
     "user": {
      "displayName": "박재석",
      "userId": "08043462631904569995"
     },
     "user_tz": -540
    },
    "id": "grxs2T-Tlf7v",
    "outputId": "c9abc4c2-e2a9-421f-b78e-838fe9f0a3bc",
    "scrolled": true
   },
   "outputs": [
    {
     "name": "stdout",
     "output_type": "stream",
     "text": [
      "Start test..\n",
      "Test accuracy for 480 images: 81.04%\n",
      "Confusion Matrix:\n"
     ]
    },
    {
     "data": {
      "image/png": "[encoded data removed]",
      "text/plain": [
       "<Figure size 576x432 with 2 Axes>"
      ]
     },
     "metadata": {
      "needs_background": "light"
     },
     "output_type": "display_data"
    },
    {
     "name": "stdout",
     "output_type": "stream",
     "text": [
      "[[49  3  1  1  0  0  0  0  0]\n",
      " [ 5 46  2  0  0  1  0  0  0]\n",
      " [ 6  5 39  1  1  0  1  0  1]\n",
      " [ 2  5  4 38  0  5  0  0  0]\n",
      " [ 0  1  1  2 42  7  0  1  0]\n",
      " [ 2  3  1  2  2 33  3  1  1]\n",
      " [ 0  4  1  0  0  1 42  4  2]\n",
      " [ 0  0  0  0  0  0  4 50  0]\n",
      " [ 0  0  0  0  1  0  2  1 50]]\n"
     ]
    }
   ],
   "source": [
    "test(model, test_loader, device,9)"
   ]
  },
  {
   "cell_type": "code",
   "execution_count": 84,
   "metadata": {
    "id": "tuys1RSKZTWK"
   },
   "outputs": [
    {
     "data": {
      "text/plain": [
       "109"
      ]
     },
     "execution_count": 84,
     "metadata": {},
     "output_type": "execute_result"
    }
   ],
   "source": [
    "97+1+3+2+4+1+1"
   ]
  },
  {
   "cell_type": "markdown",
   "metadata": {
    "id": "2N7fWF9Klf7w"
   },
   "source": [
    "학습된 모델의 예측 결과를 시각화하면 다음과 같습니다. 괄호안에 'O'가 있는 경우, 모델이 정확한 예측을 한 것이고 'X'인 경우는 틀린 예측을 한 것입니다. "
   ]
  },
  {
   "cell_type": "code",
   "execution_count": null,
   "metadata": {
    "colab": {
     "base_uri": "https://localhost:8080/",
     "height": 482
    },
    "executionInfo": {
     "elapsed": 3814,
     "status": "ok",
     "timestamp": 1673501765056,
     "user": {
      "displayName": "박재석",
      "userId": "08043462631904569995"
     },
     "user_tz": -540
    },
    "id": "0G0WOvWllf7w",
    "outputId": "ea91823d-a695-4269-9793-26540883a72d"
   },
   "outputs": [],
   "source": [
    "columns = 5\n",
    "rows = 5\n",
    "fig = plt.figure(figsize=(8,8))\n",
    "\n",
    "model.eval()\n",
    "mean = [0.485, 0.456, 0.406]\n",
    "std = [0.229, 0.224, 0.225]\n",
    "for i in range(1, columns*rows+1):\n",
    "    data_idx = np.random.randint(len(test_data))\n",
    "    input_img = test_data[data_idx][0].unsqueeze(dim=0).to(device) \n",
    "\n",
    "\n",
    "    output = model(input_img)\n",
    "    _, argmax = torch.max(output, 1)\n",
    "    pred = argmax.item()\n",
    "    label = test_data[data_idx][1]\n",
    "    \n",
    "    fig.add_subplot(rows, columns, i)\n",
    "    \n",
    "    if pred == 0 :\n",
    "      pred_title=\"A3\"\n",
    "    elif pred == 1 :\n",
    "      pred_title=\"A4\"\n",
    "    else:\n",
    "      pred_title=\"A5\"\n",
    "\n",
    "\n",
    "    if pred == label:\n",
    "        plt.title(pred_title + '(O)')\n",
    "    else:\n",
    "        plt.title(pred_title + '(X)')\n",
    "    plot_img = test_data[data_idx][0]\n",
    "    # 이미지를 normalization 이전 상태로 되돌리는 작업\n",
    "    plot_img[0, :, :] = plot_img[0, :, :] * std[0] + mean[0]\n",
    "    plot_img[1, :, :] = plot_img[1, :, :] * std[1] + mean[1]\n",
    "    plot_img[2, :, :] = plot_img[2, :, :] * std[2] + mean[2]\n",
    "    plot_img = transforms.functional.to_pil_image(plot_img)\n",
    "    plt.imshow(plot_img)\n",
    "    plt.axis('off')\n",
    "plt.show()"
   ]
  },
  {
   "cell_type": "markdown",
   "metadata": {
    "id": "RKf9kBTllf7w"
   },
   "source": [
    "## 11. Transfer Learning\n",
    "\n",
    "실습을 끝내기전에, 우리는 **전이 학습(transfer learning)** 을 구현해 보고 성능을 확인해 볼 것입니다. \n",
    "전이학습이란 비슷한 목적으로 미리 학습된 모델의 파라미터로 나의 모델의 파라미터를 초기화한 후 학습을 이어서 진행하는 것을 말합니다. 그렇다면 이러한 전이학습은 어떤 장점이 있기에 사용하는 것일까요?\n",
    "\n",
    "여러분이 현실에서 딥러닝을 활용할 때 흔히 마주칠 수 있는 현실적인 제약들이 있습니다. 데이터 부족, 컴퓨팅 리소스 부족, 시간의 부족이 대표적인 현실적인 제약들에 속합니다. 우리가 풀고자 하는 문제와 완전히 똑같지는 않지만 어느정도 연관성이 있는 문제를, 아주 많은 양의 데이터로, 미리 학습한 모델이 있다면 그 모델은 정말 아무것도 모르는 백지 상태의 모델보다 우리가 풀고 싶은 문제에 대해 훨씬 더 빨리 배우고 잘 배울 수 있습니다. \n",
    "\n",
    "구현은 전혀 어렵지 않습니다. 먼저 미리 학습된 모델을 불러와야 합니다. \n",
    "여기서 불러올 모델은 ResNet으로, 대규모 ImageNet 데이터로 이미지 분류를 학습한 모델입니다.\n",
    "\n",
    "ResNet에 대해 잘 기억이 나지 않는다면 ['Lab-10-6'](https://www.youtube.com/watch?v=Qb_bYWcQXqY&list=PLQ28Nx3M4JrhkqBVIXg-i5_CVVoS1UzAv&index=25) 강의를 참고하시기 바랍니다.\n",
    "\n",
    "다음 코드블록은 torchvision에 구현된 resnet50을 파라미터가 학습된 상태로 불러옵니다. 학습된 파라미터를 다운받기 위해 몇 분의 시간이 소요될 수 있습니다."
   ]
  },
  {
   "cell_type": "code",
   "execution_count": null,
   "metadata": {
    "colab": {
     "base_uri": "https://localhost:8080/"
    },
    "executionInfo": {
     "elapsed": 1463,
     "status": "ok",
     "timestamp": 1673502804913,
     "user": {
      "displayName": "박재석",
      "userId": "08043462631904569995"
     },
     "user_tz": -540
    },
    "id": "5GOhVIiWlf7x",
    "outputId": "e4f7d602-261d-4794-a8cd-1d55b237d60b"
   },
   "outputs": [],
   "source": [
    "new_model = torchvision.models.resnet50(pretrained=False)"
   ]
  },
  {
   "cell_type": "markdown",
   "metadata": {
    "id": "Nltog0G-lf7x"
   },
   "source": [
    "다만 우리가 앞서 직접 정의한 모델(SimpleCNN)에서는 입력 이미지의 크기를 120x120로 한 것에 반해, 방금 불러온 ResNet은 입력 이미지 크기를 최소한 224x224로 가정하고 학습된 모델입니다. 따라서 입력 데이터 크기만 수정하여 DataLoader를 다시 정의하도록 하겠습니다. "
   ]
  },
  {
   "cell_type": "code",
   "execution_count": null,
   "metadata": {
    "id": "MOr025BTlf7x"
   },
   "outputs": [],
   "source": [
    "data_transforms = {\n",
    "    'train': transforms.Compose([\n",
    "        transforms.RandomRotation(5),\n",
    "        transforms.RandomHorizontalFlip(),\n",
    "        transforms.RandomResizedCrop(224, scale=(0.96, 1.0), ratio=(0.95, 1.05)),\n",
    "        transforms.ToTensor(),\n",
    "        transforms.Normalize([0.485, 0.456, 0.406], [0.229, 0.224, 0.225])\n",
    "    ]),\n",
    "    'val': transforms.Compose([\n",
    "        transforms.Resize([224, 224]),\n",
    "        transforms.ToTensor(),\n",
    "        transforms.Normalize([0.485, 0.456, 0.406], [0.229, 0.224, 0.225])\n",
    "    ]),\n",
    "}\n",
    "\n",
    "train_data = CatDogDataset(data_dir='./data/action_level', mode='train', transform=data_transforms['train'])\n",
    "val_data = CatDogDataset(data_dir='./data/action_level', mode='val', transform=data_transforms['val'])\n",
    "test_data = CatDogDataset(data_dir='./data/action_level', mode='test', transform=data_transforms['val'])\n",
    "\n",
    "train_loader = DataLoader(train_data, batch_size=batch_size, shuffle=True, drop_last=True)\n",
    "val_loader = DataLoader(val_data, batch_size=batch_size, shuffle=False, drop_last=True)\n",
    "test_loader = DataLoader(test_data, batch_size=batch_size, shuffle=False, drop_last=True)"
   ]
  },
  {
   "cell_type": "markdown",
   "metadata": {
    "id": "dtqvu5vGlf7y"
   },
   "source": [
    "우리가 불러온 ImageNet에 학습된 ResNet은 1000개의 class를 구분하는 네트워크입니다. 즉, 마지막 FC layer의 출력 뉴런 수가 1000개인 것입니다. 우리는 2개의 class를 구분하는 네트워크를 원하기 때문에, 마지막 FC layer만 출력을 2로 바꿔주고 이 부분에 대해서만 학습을 추가로 진행하면 됩니다.\n",
    "\n",
    "상황에 따라서는 우리가 이번에 하는 것처럼 마지막 FC layer만 학습을 진행하는 것이 아니라 전체 네트워크에 대해서 학습을 이어서 진행하는 경우도 있습니다. 이를 파라미터 fine tuning(미세 조정)이라고 합니다. ImageNet에는 다양한 동물 class도 포함이 되어있습니다. 즉, 우리가 불러온 ResNet은 강아지와 고양이 같은 동물에 대한 특징을 이미 어느정도 잘 추출하는 네트워크인 것입니다. 따라서 fine tuning이 굳이 필요하지 않습니다. 게다가, 이번 실습과 같이 적은 양의 데이터를 통해 모델을 학습시키는 상황에서 fine tuning을 진행하는 것은 overfitting의 가능성이 커지는 것이기 때문에 오히려 성능을 낮추는 결과를 가져올 수 있습니다. \n",
    "\n",
    "이러한 내용을 아래 코드에 구현해두었습니다.\n",
    "- [`nn.Module.parameters`](https://pytorch.org/docs/stable/nn.html?highlight=parameters#torch.nn.Module.parameters)를 통해 모델 파라미터에 대한 iterator를 가져올 수 있습니다. 먼저, 이 iterator를 통해 for문 을 돌며 모든 파라미터에 대해 [requires_grad](https://pytorch.org/docs/stable/autograd.html?highlight=requires_grad#torch.Tensor.requires_grad)를 False로 바꿔줍니다. 이렇게 하면 이 파라미터들에 대해서는 기울기가 계산되지 않기 때문에, 파라미터 업데이트가 되지 않습니다.\n",
    "- 그 다음으로는 맨마지막 FC layer를 새로 정의해주는 것입니다. 그런데 문제는 마지막 FC layer에 어떻게 접근하느냐 입니다. 우리가 구현을 하지 않았기 때문에 마지막 layer의 입력 뉴런수가 어떻게 되는지도 모르는 상황입니다. 그러면 우리가 할 일은 구현된 코드를 보는 것입니다. torchvision에 우리가 불러온 ResNet이 구현되어 있습니다. [이곳](https://github.com/pytorch/vision/blob/master/torchvision/models/resnet.py#L146)에 가면 구현된 ResNet의 마지막 레이어의 변수명이 **self.fc**로 되어있음을 알 수 있습니다. 따라서 우리는 **모델.fc**와 같은 방식으로 이 layer에 접근할 수 있습니다. 이러한 방식으로 마지막 FC layer의 입력 뉴런수를 가져오고, 출력 뉴런 수는 우리의 문제에 맞게 2로 하여 마지막 layer를 수정할 수 있습니다. \n",
    "\n",
    "### <font color='red'>[TODO] 코드 구현</font>\n",
    "\n",
    "다음을 읽고 코드를 완성해보세요.\n",
    "\n",
    "1. 불러온 모델의 가장 마지막 FC layer의 이름은 'fc'임을 확인했습니다. 해당 레이어의 입력 뉴런 수를 `num_ftrs` 변수에 저장했습니다. 이제, 이 마지막 레이어에 새로운 FC layer를 정의하고, 그것의 입력 뉴런 수는 이전과 마찬가지로 `num_ftrs`로 하고 출력 뉴런 수는 우리가 분류하고자 하는 class의 총 개수로 해주세요,\n",
    "2. 손실함수를 Cross Entropy Loss Function을 선언하고 이를 `criterion` 변수에 담습니다.\n",
    "3. Adam 옵티마이저를 선언하고 이를 `optimizer` 변수에 담습니다. 인자로 넣어 주는 모델 파라미터는 새로 불러온 모델의 파라미터여야 함에 주의하세요. **<3. 하이퍼파라미터 세팅>** 에서 정의한 `learning_rate` 를 사용하세요.\n",
    "\n",
    "**ResNet 의 최종 출력층을 바꾸고 손실함수 및 옵티마이저를 작성해보세요! \"<font color='45A07A'>## 코드 시작 ##</font>\"과 \"<font color='45A07A'>## 코드 종료 ##</font>\" 사이의 <font color='075D37'>None</font> 부분을 채우시면 됩니다.**"
   ]
  },
  {
   "cell_type": "code",
   "execution_count": null,
   "metadata": {
    "colab": {
     "base_uri": "https://localhost:8080/"
    },
    "executionInfo": {
     "elapsed": 286,
     "status": "ok",
     "timestamp": 1673448797075,
     "user": {
      "displayName": "박재석",
      "userId": "08043462631904569995"
     },
     "user_tz": -540
    },
    "id": "LFRYn9yXUVw8",
    "outputId": "7a2dee1f-e918-452f-9c38-20068deab46a"
   },
   "outputs": [],
   "source": [
    "new_model.fc.in_features"
   ]
  },
  {
   "cell_type": "code",
   "execution_count": null,
   "metadata": {
    "id": "3U1GCEt9lf7y"
   },
   "outputs": [],
   "source": [
    "for param in new_model.parameters():\n",
    "    param.requires_grad = False\n",
    "\n",
    "num_ftrs = new_model.fc.in_features\n",
    "## 코드 시작 ##\n",
    "new_model.fc = nn.Linear(num_ftrs,3)    # 위의 설명 1. 을 참고하여 None을 채우세요.\n",
    "criterion = nn.CrossEntropyLoss()      # 위의 설명 2. 를 참고하여 None을 채우세요.\n",
    "optimizer = torch.optim.Adam(model.parameters(),lr=learning_rate)       # 위의 설명 2. 를 참고하여 None을 채우세요.\n",
    "new_model = new_model.to(device)\n",
    "     # 위의 설명 3. 을 참고하여 None을 채우세요.\n",
    "## 코드 종료 ##\n",
    "val_every = 1\n",
    "saved_dir = './saved/ResNet50'"
   ]
  },
  {
   "cell_type": "markdown",
   "metadata": {
    "id": "cSiNs6n5lf7z"
   },
   "source": [
    "아래의 코드를 실행해 코드를 성공적으로 완성했는지 확인해보세요. \n",
    "\n",
    "별다른 문제가 없다면 이어서 진행하면 됩니다."
   ]
  },
  {
   "cell_type": "code",
   "execution_count": null,
   "metadata": {
    "colab": {
     "base_uri": "https://localhost:8080/"
    },
    "executionInfo": {
     "elapsed": 6,
     "status": "ok",
     "timestamp": 1673429420489,
     "user": {
      "displayName": "박재석",
      "userId": "08043462631904569995"
     },
     "user_tz": -540
    },
    "id": "09Ovcjhklf7z",
    "outputId": "fa283966-b4f1-4c4e-ba1b-2effae0e7995"
   },
   "outputs": [],
   "source": [
    "checker.final_fc_check(new_model)"
   ]
  },
  {
   "cell_type": "markdown",
   "metadata": {
    "id": "Sd3zkOLNlf7z"
   },
   "source": [
    "불러온 모델에 대해 학습을 진행합니다. 이 과정도 100분 내외의 시간이 소요됩니다. 마찬가지로 적당히 학습이 진행되는 것만 보고 중단후 다음 단계로 넘어가셔도 됩니다."
   ]
  },
  {
   "cell_type": "code",
   "execution_count": null,
   "metadata": {
    "id": "IOETBvHoTR9A"
   },
   "outputs": [],
   "source": [
    "torch.backends.cudnn.enabled = False"
   ]
  },
  {
   "cell_type": "code",
   "execution_count": null,
   "metadata": {
    "colab": {
     "background_save": true,
     "base_uri": "https://localhost:8080/"
    },
    "id": "7xY9VVbslf70",
    "outputId": "f11ce7b0-0bf5-4b98-9edd-295550174f2a",
    "scrolled": false
   },
   "outputs": [],
   "source": [
    "train(num_epochs, new_model, train_loader, criterion, optimizer, saved_dir, val_every, device)"
   ]
  },
  {
   "cell_type": "markdown",
   "metadata": {
    "id": "XvtxYdl_lf70"
   },
   "source": [
    "전이 학습을 마친 후, 훈련 단계에서 최고 성능을 보인 파라미터를 불러오고, 그 성능을 확인합니다. 마찬가지로 위에서 학습을 끝까지 진행하지 않았다면 아래 주석부분을 해제하시기 바랍니다.\n",
    "\n",
    "### <font color='red'>[TODO] 코드 구현</font>\n",
    "\n",
    "다음을 읽고 코드를 완성해보세요. \n",
    "\n",
    "1. `model_path`의 경로에 있는 모델 파일을 로드하여, 이를 `check_point` 변수에 저장합니다. 또한, 미리저장된 모델이 GPU로 학습했는데 CPU 로 불러올 경우, 파이토치에서 모델을 불러오는 함수에 `map_location` 인자에 `device` 정보를 전달해야 적용됩니다. (즉, 함수에 `map_location=device` 가 되어야 합니다.) `device` 변수는 **<1. Package load>** 에서 이미 선언했습니다.\n",
    "2. `check_point` 딕셔너리에 접근하여 모델의 파라미터를 `state_dict` 변수에 저장합니다. 접근을 위한 딕셔너리의 키값은 'net' 입니다.\n",
    "3. `state_dict`의 파라미터들을 ResNet 모델(`new_model`)에 로드합니다."
   ]
  },
  {
   "cell_type": "code",
   "execution_count": null,
   "metadata": {
    "colab": {
     "base_uri": "https://localhost:8080/"
    },
    "executionInfo": {
     "elapsed": 564,
     "status": "ok",
     "timestamp": 1673429668973,
     "user": {
      "displayName": "박재석",
      "userId": "08043462631904569995"
     },
     "user_tz": -540
    },
    "id": "zNv-lqc9lf71",
    "outputId": "91a7687a-3204-4826-9b3f-e38e2e9f58a6"
   },
   "outputs": [],
   "source": [
    "# model_path = './saved/ResNet50/best_model.pt'\n",
    "model_path = './saved/pretrained/ResNet50/best_model.pt' # 모델 학습을 끝까지 진행하지 않은 경우에 사용\n",
    "\n",
    "## 코드 시작 ##\n",
    "checkpoint = torch.load(model_path,map_location=device)   # 위의 설명 1. 을 참고하여 None을 채우세요.\n",
    "state_dict = checkpoint['net']   # 위의 설명 2. 를 참고하여 None을 채우세요.\n",
    "new_model.load_state_dict(state_dict)                  # 위의 설명 3. 을 참고하여 None을 채우세요.\n",
    "## 코드 종료 ##                # 위의 설명 3. 을 참고하여 None을 채우세요.\n",
    "## 코드 종료 ##"
   ]
  },
  {
   "cell_type": "markdown",
   "metadata": {
    "id": "EhdjwUjYlf71"
   },
   "source": [
    "테스트를 수행합니다. 정확도가 97% 내외가 나온다면 성공적으로 진행된 것입니다. 겨우 마지막 FC layer만 학습시켰음에도 불구하고 우리의 SimpleCNN보다 성능이 훨씬 좋은 것을 볼 수 있습니다."
   ]
  },
  {
   "cell_type": "code",
   "execution_count": null,
   "metadata": {
    "colab": {
     "base_uri": "https://localhost:8080/"
    },
    "executionInfo": {
     "elapsed": 17382,
     "status": "ok",
     "timestamp": 1673429690350,
     "user": {
      "displayName": "박재석",
      "userId": "08043462631904569995"
     },
     "user_tz": -540
    },
    "id": "FISuUOnAlf71",
    "outputId": "9301cfd4-3fbf-47c4-bf06-c1618713ce8a"
   },
   "outputs": [],
   "source": [
    "test(new_model, test_loader, device)"
   ]
  },
  {
   "cell_type": "markdown",
   "metadata": {
    "id": "mL0QTE98lf72"
   },
   "source": [
    "학습된 모델의 예측 결과를 시각화하면 다음과 같습니다. "
   ]
  },
  {
   "cell_type": "code",
   "execution_count": null,
   "metadata": {
    "colab": {
     "base_uri": "https://localhost:8080/",
     "height": 482
    },
    "executionInfo": {
     "elapsed": 3906,
     "status": "ok",
     "timestamp": 1673429698017,
     "user": {
      "displayName": "박재석",
      "userId": "08043462631904569995"
     },
     "user_tz": -540
    },
    "id": "Zm6yUqO3lf73",
    "outputId": "6914b5f3-592f-49a9-cb2f-38866bcaae5f"
   },
   "outputs": [],
   "source": [
    "columns = 5\n",
    "rows = 5\n",
    "fig = plt.figure(figsize=(8,8))\n",
    "\n",
    "model.eval()\n",
    "mean = [0.485, 0.456, 0.406]\n",
    "std = [0.229, 0.224, 0.225]\n",
    "for i in range(1, columns*rows+1):\n",
    "    data_idx = np.random.randint(len(test_data))\n",
    "    input_img = test_data[data_idx][0].unsqueeze(dim=0).to(device) \n",
    "    '''\n",
    "    unsqueeze()를 통해 입력 이미지의 shape을 (1, 28, 28)에서 (1, 1, 28, 28)로 변환. \n",
    "    모델에 들어가는 입력 이미지의 shape은 (batch_size, channel, width, height) 되어야 함에 주의하세요!\n",
    "    '''\n",
    "    output = new_model(input_img)\n",
    "    _, argmax = torch.max(output, 1)\n",
    "    pred = argmax.item()\n",
    "    label = test_data[data_idx][1]\n",
    "    \n",
    "    fig.add_subplot(rows, columns, i)\n",
    "    pred_title = 'Cat' if pred == 0 else 'Dog'\n",
    "    if pred == label:\n",
    "        plt.title(pred_title + '(O)')\n",
    "    else:\n",
    "        plt.title(pred_title + '(X)')\n",
    "    plot_img = test_data[data_idx][0]\n",
    "    # 이미지를 normalization 이전 상태로 되돌리는 작업\n",
    "    plot_img[0, :, :] = plot_img[0, :, :] * std[0] + mean[0]\n",
    "    plot_img[1, :, :] = plot_img[1, :, :] * std[1] + mean[1]\n",
    "    plot_img[2, :, :] = plot_img[2, :, :] * std[2] + mean[2]\n",
    "    plot_img = transforms.functional.to_pil_image(plot_img)\n",
    "    plt.imshow(plot_img)\n",
    "    plt.axis('off')\n",
    "model.train()\n",
    "plt.show()"
   ]
  },
  {
   "cell_type": "markdown",
   "metadata": {
    "id": "Ut7oRMWslf74"
   },
   "source": [
    "## 12. Summary\n",
    "\n",
    "여기까지 오신 여러분 잘하셨습니다! \n",
    "\n",
    "우리는 이번 실습을 통해 다음과 같은 내용을 학습했습니다.\n",
    "\n",
    "- Dataset class를 우리가 가진 데이터셋에 맞게 customize 하여 정의할 수 있다.\n",
    "- CNN을 설계하고 이미지 분류기를 학습시킬 수 있다.\n",
    "- 학습된 모델을 저장하고 불러올 수 있다.\n",
    "- 데이터, 리소스, 시간이 부족한 상황에서 전이학습을 사용하여 이를 극복할 수 있다."
   ]
  },
  {
   "cell_type": "markdown",
   "metadata": {
    "id": "ot3C1_tjlf74"
   },
   "source": [
    "---"
   ]
  },
  {
   "cell_type": "markdown",
   "metadata": {
    "id": "tmEZhMYolf74"
   },
   "source": [
    "# Self-Review\n",
    "\n",
    "학습 환경에 맞춰 알맞는 제출방법을 실행하세요!\n",
    "\n",
    "### 로컬 환경 실행자\n",
    "\n",
    "1. 모든 실습 완료 후, Jupyter Notebook 을 `Ctrl+S` 혹은 `File > Save and checkpoint`로 저장합니다.\n",
    "2. 제일 하단의 코드를 실행합니다. 주의할 점은 Jupyter Notebook 의 파일이름을 수정하시면 안됩니다! 만약에 노트북 이름을 수정했다면 \"pytorch-cnn-project\" 로 바꿔주시길 바랍니다. 모든 평가 기준을 통과하면, 함수 실행 후 프로젝트 \"submit\" 디렉토리와 압축된 \"submit.zip\"이 생깁니다. \"cnn_submission.tsv\" 파일을 열고 모두 Pass 했는지 확인해보세요!\n",
    "    * \"cnn_submission.tsv\" : 평가 기준표에 근거해 각 세부항목의 통과여부(Pass/Fail) 파일\n",
    "    * \"cnn_submission.html\" : 여러분이 작성한 Jupyter Notebook 을 html 형식으로 전환한 파일\n",
    "3. 코드 실행결과 안내에 따라서 `submit.zip` 파일을 확인하시고 제출해주시길 바랍니다.\n",
    "\n",
    "### Colab 환경 실행자\n",
    "\n",
    "1. 모든 실습 완료 후, Jupyter Notebook 을 `Ctrl+S` 로 저장합니다.\n",
    "2. 제일 하단의 코드를 실행합니다. 코드 실행결과 안내에 따라서 재작성하거나 다음스텝으로 넘어갑니다. 모든 평가 기준을 통과하면, 함수 실행 후 프로젝트 \"submit\" 디렉토리와 압축된 \"cnn_submission.tsv\"만 생깁니다. \"cnn_submission.tsv\" 파일을 열고 모두 Pass 했는지 확인해보세요!\n",
    "    * \"cnn_submission.tsv\" : 평가 기준표에 근거해 각 세부항목의 통과여부(Pass/Fail) 파일\n",
    "3. 프로젝트를 저장한 드라이브의 `submit` 폴더에서 `cnn_submission.tsv` 파일을 다운 받습니다.\n",
    "4. Colab Notebook 에서 `파일 > .ipynb 다운로드`를 통해서 노트북을 다운로드 받습니다.\n",
    "5. 로컬에서 Jupyter Notebook 프로그램을 실행시킵니다. \n",
    "6. 4번 스텝에서 다운받은 노트북을 열고 `File > Download as > HTML(.html)` 로 재 다운로드 합니다.\n",
    "7. 3번 스텝에서 받은 파일과 6번 스텝에서 받은 파일을 하나의 폴더에 넣고, `submit.zip` 이라는 이름으로 압축하고 제출해주시길 바랍니다."
   ]
  },
  {
   "cell_type": "code",
   "execution_count": null,
   "metadata": {
    "colab": {
     "base_uri": "https://localhost:8080/"
    },
    "executionInfo": {
     "elapsed": 2052,
     "status": "ok",
     "timestamp": 1673429707126,
     "user": {
      "displayName": "박재석",
      "userId": "08043462631904569995"
     },
     "user_tz": -540
    },
    "id": "gJK8MnNulf75",
    "outputId": "d13b6f0f-0566-41cf-b76e-0c3a8d56a9b4"
   },
   "outputs": [],
   "source": [
    "import check_util.submit as submit\n",
    "submit.process_submit()"
   ]
  }
 ],
 "metadata": {
  "accelerator": "GPU",
  "colab": {
   "provenance": []
  },
  "gpuClass": "standard",
  "kernelspec": {
   "display_name": "Python 3 (ipykernel)",
   "language": "python",
   "name": "python3"
  },
  "language_info": {
   "codemirror_mode": {
    "name": "ipython",
    "version": 3
   },
   "file_extension": ".py",
   "mimetype": "text/x-python",
   "name": "python",
   "nbconvert_exporter": "python",
   "pygments_lexer": "ipython3",
   "version": "3.9.12"
  },
  "toc": {
   "base_numbering": 1,
   "nav_menu": {},
   "number_sections": false,
   "sideBar": true,
   "skip_h1_title": false,
   "title_cell": "목차",
   "title_sidebar": "Contents",
   "toc_cell": true,
   "toc_position": {
    "height": "calc(100% - 180px)",
    "left": "10px",
    "top": "150px",
    "width": "349.091px"
   },
   "toc_section_display": true,
   "toc_window_display": true
  }
 },
 "nbformat": 4,
 "nbformat_minor": 1
}
